{
 "cells": [
  {
   "cell_type": "code",
   "execution_count": null,
   "metadata": {},
   "outputs": [],
   "source": [
    "# Get rid of annoying tf warning\n",
    "import os\n",
    "os.environ['TF_CPP_MIN_LOG_LEVEL'] = '3' \n",
    "\n",
    "import pickle\n",
    "import numpy as np\n",
    "np.set_printoptions(suppress=True)\n",
    "\n",
    "import bayesflow as beef\n",
    "import tensorflow as tf\n",
    "\n",
    "import sys\n",
    "sys.path.append(\"../\")\n",
    "from experiments import SmoothingExperiment, FilteringExperiment\n",
    "sys.path.append(\"../../../assets/\")\n",
    "from models import MixtureRandomWalkDDM"
   ]
  },
  {
   "cell_type": "code",
   "execution_count": null,
   "metadata": {},
   "outputs": [],
   "source": [
    "SIMULATE_VALIATION_DATA = False\n",
    "FIT_MODEL = True\n",
    "\n",
    "NUM_OBS = 800\n",
    "NUM_SAMPLES = 4000\n",
    "NUM_VALIDATION_SIMULATIONS = 1000\n",
    "\n",
    "MICRO_PARAM_LABELS = ['Drift rate', 'Threshold', 'Non-decision time']\n",
    "MICRO_PARAM_NAMES  = [r'v', r'a', r'\\tau']\n",
    "MACRO_PARAM_LABELS = ['Transition std. deviation', 'Switch Probability']\n",
    "MACRO_PARAM_NAMES  = [r'\\sigma', r'q']\n",
    "COMPARISON_COLOR = '#133a76'\n",
    "\n",
    "FONT_SIZE_1 = 22\n",
    "FONT_SIZE_2 = 20\n",
    "FONT_SIZE_3 = 18\n",
    "\n",
    "FIG_SIZE = (18, 8)"
   ]
  },
  {
   "cell_type": "code",
   "execution_count": null,
   "metadata": {},
   "outputs": [],
   "source": [
    "model = MixtureRandomWalkDDM()\n",
    "smoothing_experiment = SmoothingExperiment(model, \"checkpoints/smoothing_summary_network\")\n",
    "filtering_experiment = FilteringExperiment(model, \"checkpoints/filtering_summary_network\")"
   ]
  },
  {
   "cell_type": "code",
   "execution_count": null,
   "metadata": {},
   "outputs": [],
   "source": [
    "if SIMULATE_VALIATION_DATA:\n",
    "    validation_data = model.generate(NUM_VALIDATION_SIMULATIONS)\n",
    "    with open('../data/validation_data.pkl', 'wb') as f:\n",
    "        pickle.dump(validation_data, f)\n",
    "else:\n",
    "    with open('../data/validation_data.pkl', 'rb') as f:\n",
    "        validation_data = pickle.load(f)"
   ]
  },
  {
   "cell_type": "code",
   "execution_count": null,
   "metadata": {},
   "outputs": [],
   "source": [
    "if FIT_MODEL:\n",
    "    post_hyper_params = np.zeros((NUM_VALIDATION_SIMULATIONS, NUM_SAMPLES, 5))\n",
    "    post_local_params = np.zeros((NUM_VALIDATION_SIMULATIONS, NUM_OBS, NUM_SAMPLES, 3))\n",
    "    configured_val_data = model.configure(validation_data)['summary_conditions']\n",
    "    for i in range(NUM_VALIDATION_SIMULATIONS):\n",
    "        post_samples = smoothing_experiment.amortizer.sample(\n",
    "            {'summary_conditions': configured_val_data[i:i+1]},\n",
    "            NUM_SAMPLES\n",
    "            )\n",
    "        post_hyper_params[i] = post_samples['global_samples']\n",
    "        post_local_params[i] = post_samples['local_samples']\n",
    "    with open('../data/post_hyper_params.pkl', 'wb') as f:\n",
    "        pickle.dump(post_hyper_params, f)\n",
    "    with open('../data/post_local_params.pkl', 'wb') as f:\n",
    "        pickle.dump(post_local_params, f)\n",
    "else:\n",
    "    with open('../data/post_hyper_params.pkl', 'rb') as f:\n",
    "        post_hyper_params = pickle.load(f)\n",
    "    with open('../data/post_local_params.pkl', 'rb') as f:\n",
    "        post_local_params = pickle.load(f)"
   ]
  }
 ],
 "metadata": {
  "kernelspec": {
   "display_name": "beef",
   "language": "python",
   "name": "python3"
  },
  "language_info": {
   "codemirror_mode": {
    "name": "ipython",
    "version": 3
   },
   "file_extension": ".py",
   "mimetype": "text/x-python",
   "name": "python",
   "nbconvert_exporter": "python",
   "pygments_lexer": "ipython3",
   "version": "3.11.4"
  },
  "orig_nbformat": 4
 },
 "nbformat": 4,
 "nbformat_minor": 2
}
