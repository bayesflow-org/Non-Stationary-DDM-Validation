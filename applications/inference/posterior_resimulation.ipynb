{
 "cells": [
  {
   "cell_type": "code",
   "execution_count": 1,
   "metadata": {},
   "outputs": [
    {
     "name": "stderr",
     "output_type": "stream",
     "text": [
      "/Users/lukas/opt/miniconda3/envs/beef/lib/python3.11/site-packages/bayesflow/trainers.py:27: TqdmExperimentalWarning: Using `tqdm.autonotebook.tqdm` in notebook mode. Use `tqdm.tqdm` instead to force console mode (e.g. in jupyter console)\n",
      "  from tqdm.autonotebook import tqdm\n"
     ]
    }
   ],
   "source": [
    "import numpy as np\n",
    "import pandas as pd\n",
    "import tensorflow as tf\n",
    "import seaborn as sns\n",
    "import matplotlib.pyplot as plt\n",
    "import pickle\n",
    "\n",
    "from tqdm import tqdm\n",
    "from scipy.stats import median_abs_deviation\n",
    "from matplotlib.lines import Line2D\n",
    "from matplotlib.patches import Patch\n",
    "\n",
    "import matplotlib\n",
    "matplotlib.rcParams['font.sans-serif'] = \"Palatino\"\n",
    "matplotlib.rcParams['font.family'] = \"sans-serif\"\n",
    "\n",
    "from helpers import get_setup\n",
    "from configurations import model_names\n",
    "\n",
    "NUM_OBS = 768\n",
    "NUM_SAMPLES = 1000\n",
    "NUM_RESIM = 100\n",
    "\n",
    "LOCAL_PARAM_LABELS = ['Drift rate', 'Threshold', 'Non-decision time']\n",
    "LOCAL_PARAM_NAMES  = [r'v', r'a', r'\\tau']\n",
    "\n",
    "FONT_SIZE_1 = 24\n",
    "FONT_SIZE_2 = 20\n",
    "FONT_SIZE_3 = 16"
   ]
  },
  {
   "cell_type": "code",
   "execution_count": null,
   "metadata": {},
   "outputs": [],
   "source": [
    "with open('data/posteriors/samples_per_model.pkl', 'rb') as file:\n",
    "    samples_per_model = pickle.load(file)"
   ]
  },
  {
   "cell_type": "code",
   "execution_count": null,
   "metadata": {},
   "outputs": [],
   "source": [
    "setup = [get_setup(names, \"smoothing\") for names in model_names]\n",
    "models = [model[0] for model in setup]\n",
    "trainers = [trainer[1] for trainer in setup]"
   ]
  },
  {
   "cell_type": "code",
   "execution_count": null,
   "metadata": {},
   "outputs": [],
   "source": [
    "setup = [get_setup(names, \"smoothing\") for names in model_names]\n",
    "models = [model[0] for model in setup]\n",
    "trainers = [trainer[1] for trainer in setup]"
   ]
  },
  {
   "cell_type": "code",
   "execution_count": null,
   "metadata": {},
   "outputs": [],
   "source": [
    "NUM_OBS = 768\n",
    "NUM_SAMPLES = 1000\n",
    "NUM_RESIM = 100\n",
    "\n",
    "FONT_SIZE_1 = 24\n",
    "FONT_SIZE_2 = 20\n",
    "FONT_SIZE_3 = 16\n",
    "\n",
    "import matplotlib\n",
    "matplotlib.rcParams['font.sans-serif'] = \"Palatino\"\n",
    "matplotlib.rcParams['font.family'] = \"sans-serif\""
   ]
  },
  {
   "cell_type": "markdown",
   "metadata": {},
   "source": [
    "# Fit models"
   ]
  },
  {
   "cell_type": "code",
   "execution_count": null,
   "metadata": {},
   "outputs": [],
   "source": [
    "which = 6\n",
    "data = pd.read_csv('../data/data_color_discrimination.csv')\n",
    "person_data = data.loc[data.id == which]\n",
    "person_rt = np.where(person_data['correct'] == 0, -person_data['rt'], person_data['rt'])[None, :, None]\n",
    "person_rt.shape"
   ]
  },
  {
   "cell_type": "code",
   "execution_count": null,
   "metadata": {},
   "outputs": [],
   "source": [
    "samples_z = mrw_ddm_exp.amortizer.sample({'summary_conditions': person_rt}, NUM_SAMPLES)"
   ]
  },
  {
   "cell_type": "code",
   "execution_count": null,
   "metadata": {},
   "outputs": [],
   "source": [
    "local_post = samples_z['local_samples'] * mrw_ddm.local_prior_stds + mrw_ddm.local_prior_means\n",
    "local_post_t = np.transpose(local_post, (1, 0, 2))"
   ]
  },
  {
   "cell_type": "code",
   "execution_count": null,
   "metadata": {},
   "outputs": [],
   "source": [
    "idx = np.random.choice(np.arange(NUM_SAMPLES), NUM_RESIM, replace=False)\n",
    "pred_data = np.abs(mrw_ddm.likelihood(local_post_t[idx, :, :])['sim_data'])"
   ]
  },
  {
   "cell_type": "code",
   "execution_count": null,
   "metadata": {},
   "outputs": [],
   "source": [
    "pred_df = pd.DataFrame({\n",
    "    'speed_condition': np.tile(person_data['speed_condition'], NUM_RESIM),\n",
    "    'difficulty': np.tile(person_data['difficulty'], NUM_RESIM),\n",
    "    'rt': pred_data.flatten(),\n",
    "    })"
   ]
  },
  {
   "cell_type": "code",
   "execution_count": null,
   "metadata": {},
   "outputs": [],
   "source": [
    "grouped = pred_df.groupby(['difficulty', 'speed_condition'])\n",
    "pred_summary = grouped.agg({\n",
    "    'rt': ['median', lambda x: np.median(np.abs(x - np.median(x)))]\n",
    "})\n",
    "pred_summary = pred_summary.reset_index(drop=False)\n",
    "pred_summary.columns = ['difficulty', 'speed_condition', 'median', 'mad']\n",
    "pred_summary"
   ]
  },
  {
   "cell_type": "code",
   "execution_count": null,
   "metadata": {},
   "outputs": [],
   "source": [
    "grouped = data.groupby(['speed_condition', 'difficulty'])\n",
    "true_summary = grouped.agg({\n",
    "    'rt': ['median', lambda x: np.median(np.abs(x - np.median(x)))]\n",
    "})\n",
    "true_summary = true_summary.reset_index(drop=False)\n",
    "true_summary.columns = ['speed_condition', 'difficulty', 'median', 'mad']"
   ]
  },
  {
   "cell_type": "code",
   "execution_count": null,
   "metadata": {},
   "outputs": [],
   "source": [
    "[true_summary, pred_summary]"
   ]
  },
  {
   "cell_type": "code",
   "execution_count": null,
   "metadata": {},
   "outputs": [],
   "source": [
    "bar_width = 0.1\n",
    "\n",
    "# Create a figure with subplots\n",
    "fig, ax = plt.subplots(1, 2, figsize=(16, 6))\n",
    "\n",
    "ax[0].scatter(\n",
    "    pred_summary.loc[pred_summary.speed_condition == 0, 'difficulty'] * 2 - bar_width,\n",
    "    pred_summary.loc[pred_summary.speed_condition == 0, 'median'],\n",
    "    color='maroon', alpha=0.8, label=\"Mixture random Walk DDM\"\n",
    ")\n",
    "ax[0].errorbar(\n",
    "    pred_summary.loc[pred_summary.speed_condition == 0, 'difficulty'] * 2 - bar_width,\n",
    "    pred_summary.loc[pred_summary.speed_condition == 0, 'median'],\n",
    "    yerr=pred_summary.loc[pred_summary.speed_condition == 0, 'mad'],\n",
    "    fmt='none', capsize=5, elinewidth=1,\n",
    "    color='maroon', alpha=0.8\n",
    "    )\n",
    "ax[0].scatter(\n",
    "    true_summary.loc[true_summary.speed_condition == 0, 'difficulty'] * 2 + bar_width,\n",
    "    true_summary.loc[true_summary.speed_condition == 0, 'median'],\n",
    "    color='black', alpha=0.8, label=\"Empiric\"\n",
    ")\n",
    "ax[0].errorbar(\n",
    "    true_summary.loc[true_summary.speed_condition == 0, 'difficulty'] * 2 + bar_width,\n",
    "    true_summary.loc[true_summary.speed_condition == 0, 'median'],\n",
    "    yerr=true_summary.loc[true_summary.speed_condition == 0, 'mad'],\n",
    "    fmt='none', capsize=5, elinewidth=1,\n",
    "    color='black', alpha=0.8\n",
    "    )\n",
    "ax[1].scatter(\n",
    "    pred_summary.loc[pred_summary.speed_condition == 1, 'difficulty'] * 2 - bar_width,\n",
    "    pred_summary.loc[pred_summary.speed_condition == 1, 'median'],\n",
    "    color='maroon', alpha=0.8, label=\"Mixture random Walk DDM\"\n",
    ")\n",
    "ax[1].errorbar(\n",
    "    pred_summary.loc[pred_summary.speed_condition == 1, 'difficulty'] * 2 - bar_width,\n",
    "    pred_summary.loc[pred_summary.speed_condition == 1, 'median'],\n",
    "    yerr=pred_summary.loc[pred_summary.speed_condition == 1, 'mad'],\n",
    "    fmt='none', capsize=5, elinewidth=1,\n",
    "    color='maroon', alpha=0.8\n",
    "    )\n",
    "ax[1].scatter(\n",
    "    true_summary.loc[true_summary.speed_condition == 1, 'difficulty'] * 2 + bar_width,\n",
    "    true_summary.loc[true_summary.speed_condition == 1, 'median'],\n",
    "    color='black', alpha=0.8, label=\"Empiric\"\n",
    ")\n",
    "ax[1].errorbar(\n",
    "    true_summary.loc[true_summary.speed_condition == 1, 'difficulty'] * 2 + bar_width,\n",
    "    true_summary.loc[true_summary.speed_condition == 1, 'median'],\n",
    "    yerr=true_summary.loc[true_summary.speed_condition == 1, 'mad'],\n",
    "    fmt='none', capsize=5, elinewidth=1,\n",
    "    color='black', alpha=0.8\n",
    "    )\n",
    "\n",
    "ax[0].set_title(\"Accuracy Condition\", fontsize=FONT_SIZE_1)\n",
    "ax[1].set_title(\"Speed Condition\", fontsize=FONT_SIZE_1)\n",
    "\n",
    "x_labels = ['1', '2', '3', '4']\n",
    "x_positions = [0, 2, 4, 6]\n",
    "\n",
    "ax[0].set_xticks(x_positions, x_labels)\n",
    "ax[1].set_xticks(x_positions, x_labels)\n",
    "\n",
    "ax[0].set_ylim([0.3, 1.6])\n",
    "ax[1].set_ylim([0.3, 1.6])\n",
    "\n",
    "\n",
    "ax[0].tick_params(axis='both', which='major', labelsize=FONT_SIZE_3)\n",
    "ax[1].tick_params(axis='both', which='major', labelsize=FONT_SIZE_3)\n",
    "ax[0].set_ylabel(\"Response Time\", fontsize=FONT_SIZE_2)\n",
    "ax[0].set_xlabel(\"Difficulty\", labelpad=10, fontsize=FONT_SIZE_2)\n",
    "ax[1].set_xlabel(\"Difficulty\", labelpad=10, fontsize=FONT_SIZE_2)\n",
    "\n",
    "\n",
    "fig.subplots_adjust(hspace=0.5)\n",
    "\n",
    "# legend\n",
    "handles = [\n",
    "    Line2D(\n",
    "        xdata=[], ydata=[], marker='o', markersize=5,\n",
    "        color='maroon', alpha=0.8,  label=\"Mixture random Walk DDM\"\n",
    "        ),\n",
    "    Line2D(\n",
    "        xdata=[], ydata=[], marker='o', markersize=5,\n",
    "        color='black', alpha=0.8,  label=\"Empiric\"\n",
    "        )\n",
    "    ]\n",
    "\n",
    "fig.legend(\n",
    "    handles,\n",
    "    [\"Mixture random walk DDM\", \"Empiric\"],\n",
    "    fontsize=FONT_SIZE_2, bbox_to_anchor=(0.5, -0.1),\n",
    "    loc=\"center\", ncol=2\n",
    "    )\n",
    "sns.despine()\n",
    "fig.tight_layout()"
   ]
  },
  {
   "cell_type": "code",
   "execution_count": null,
   "metadata": {},
   "outputs": [],
   "source": [
    "with open('data/posteriors/samples_per_model.pkl', 'rb') as file:\n",
    "    samples_per_model = pickle.load(file)"
   ]
  },
  {
   "cell_type": "code",
   "execution_count": null,
   "metadata": {},
   "outputs": [],
   "source": [
    "def plot_parameter_trajectory(person_data, local_samples, lw=2):\n",
    "    # get conditions\n",
    "    condition = person_data['speed_condition'].to_numpy()\n",
    "    idx_speed = []\n",
    "    if condition[0] == 1:\n",
    "        idx_speed.append([0])\n",
    "        idx_speed.append(np.where(condition[:-1] != condition[1:])[0])\n",
    "        idx_speed = np.concatenate(idx_speed)\n",
    "    else:\n",
    "        idx_speed.append(np.where(condition[:-1] != condition[1:])[0])\n",
    "        idx_speed.append([NUM_OBS])\n",
    "        idx_speed = np.concatenate(idx_speed)\n",
    "    # calculate posterior median and mad\n",
    "    post_median = np.median(local_samples, axis=1)\n",
    "    post_mad = median_abs_deviation(local_samples, axis=1)\n",
    "    # plot\n",
    "    fig, axarr = plt.subplots(3, 1, figsize=(18, 14))\n",
    "    for i, ax in enumerate(axarr.flat):\n",
    "        # parameter trajectory\n",
    "        ax.plot(\n",
    "            range(NUM_OBS),\n",
    "            post_median[:, i], \n",
    "            color='maroon', alpha=1.0, lw=lw, label=\"Posterior median\"\n",
    "            )\n",
    "        ax.fill_between(\n",
    "            range(NUM_OBS),\n",
    "            post_median[:, i] - post_mad[:, i],\n",
    "            post_median[:, i] + post_mad[:, i],\n",
    "            color='maroon', alpha=0.5, label=\"Posterior MAD\"\n",
    "            )\n",
    "\n",
    "        # yellow shades\n",
    "        x = 0\n",
    "        while x < idx_speed.shape[0]:\n",
    "            ax.axvspan(idx_speed[x] + 1, idx_speed[x + 1] + 1, alpha=0.2, color='#f0c654', label=\"Speed condition\")\n",
    "            x = x + 2\n",
    "        # difficulty manipulation\n",
    "        if i == 0:\n",
    "            ax.plot(\n",
    "                range(NUM_OBS),\n",
    "                (person_data['difficulty'] - 3) * -2,\n",
    "                color='black', alpha=0.5, lw=lw, label=\"Difficulty manipulation\"\n",
    "                )\n",
    "        # aestehtics\n",
    "        ax.set_title(f'{LOCAL_PARAM_LABELS[i]} (${LOCAL_PARAM_NAMES[i]}$)', fontsize=FONT_SIZE_1)\n",
    "        ax.grid(alpha=0.3)\n",
    "        time = np.arange(0, 768+1, 48)\n",
    "        time[0] = 1\n",
    "        ax.set_xticks(time)\n",
    "        ax.margins(x=0.01)\n",
    "        ax.tick_params(axis='both', which='major', labelsize=FONT_SIZE_3)\n",
    "        ax.set_ylabel(\"Parameter\\nValue\", rotation=0, labelpad=70, fontsize=FONT_SIZE_2)\n",
    "        if i == 2:\n",
    "            ax.set_xlabel(\"Trial\", labelpad=20, fontsize=FONT_SIZE_2)   \n",
    "\n",
    "    sns.despine()\n",
    "    # fig.tight_layout()\n",
    "    fig.subplots_adjust(hspace=0.5)\n",
    "    # legend\n",
    "    handles = [\n",
    "        Line2D(xdata=[], ydata=[], color='maroon', alpha=0.8, lw=3, label=\"Posterior median\"),\n",
    "        Patch(facecolor='maroon', alpha=0.5, edgecolor=None, label=\"Posterior MAD\"),\n",
    "        Patch(facecolor='#f0c654', alpha=0.2, edgecolor=None, label=\"Speed condition\"),\n",
    "        Line2D(xdata=[], ydata=[], color='black', alpha=0.5, lw=3, label=\"Difficulty manipulation\")\n",
    "        ]\n",
    "    fig.legend(\n",
    "        handles,\n",
    "        [\"Posterior median\", \"Posterior MAD\", \"Speed condition\", \"Difficulty manipulation\"],\n",
    "        fontsize=FONT_SIZE_2, bbox_to_anchor=(0.5, -0.001),\n",
    "        loc=\"center\", ncol=4\n",
    "        )\n",
    "    \n",
    "    return fig"
   ]
  },
  {
   "cell_type": "code",
   "execution_count": null,
   "metadata": {},
   "outputs": [],
   "source": [
    "rw_local_post = samples_per_model[0]['local_samples']\n",
    "rw_local_post.shape"
   ]
  },
  {
   "cell_type": "code",
   "execution_count": null,
   "metadata": {},
   "outputs": [],
   "source": [
    "data = pd.read_csv('data/data_color_discrimination.csv')\n",
    "local_samples = rw_local_post[0]\n",
    "person_data = data.loc[data.id == 1]"
   ]
  },
  {
   "cell_type": "code",
   "execution_count": null,
   "metadata": {},
   "outputs": [],
   "source": [
    "f = plot_parameter_trajectory(person_data, local_samples)"
   ]
  },
  {
   "cell_type": "code",
   "execution_count": null,
   "metadata": {},
   "outputs": [],
   "source": [
    "with open('data/winning_model_per_person.pkl', 'rb') as file:\n",
    "    winning_model_per_person = pickle.load(file)"
   ]
  },
  {
   "cell_type": "code",
   "execution_count": null,
   "metadata": {},
   "outputs": [],
   "source": [
    "winning_model_per_person\n",
    "\n"
   ]
  },
  {
   "cell_type": "code",
   "execution_count": null,
   "metadata": {},
   "outputs": [],
   "source": [
    "with open('data/posteriors/samples_per_model.pkl', 'rb') as file:\n",
    "    samples_per_model = pickle.load(file)\n",
    "with open('data/winning_model_per_person.pkl', 'rb') as file:\n",
    "    winning_model_per_person = pickle.load(file)"
   ]
  },
  {
   "cell_type": "code",
   "execution_count": null,
   "metadata": {},
   "outputs": [],
   "source": [
    "setup = [get_setup(names, \"smoothing\") for names in model_names]\n",
    "models = [model[0] for model in setup]"
   ]
  },
  {
   "cell_type": "code",
   "execution_count": null,
   "metadata": {},
   "outputs": [],
   "source": [
    "NUM_OBS = 768\n",
    "NUM_SAMPLES = 1000\n",
    "NUM_RESIM = 100"
   ]
  },
  {
   "cell_type": "code",
   "execution_count": null,
   "metadata": {},
   "outputs": [],
   "source": [
    "samples_per_model[0]['local_samples'][0].shape"
   ]
  },
  {
   "cell_type": "code",
   "execution_count": null,
   "metadata": {},
   "outputs": [],
   "source": [
    "sub = 0\n",
    "person_data = data.loc[data.id == sub+1]\n",
    "grouped = data.groupby(['speed_condition', 'difficulty'])\n",
    "person_summary = grouped.agg({\n",
    "    'rt': ['median', lambda x: np.median(np.abs(x - np.median(x)))]\n",
    "})\n",
    "person_summary = person_summary.reset_index(drop=False)\n",
    "person_summary.columns = ['speed_condition', 'difficulty', 'median', 'mad']\n",
    "\n",
    "\n",
    "# posterior re-simulation for all models\n",
    "idx = np.random.choice(np.arange(NUM_SAMPLES), NUM_RESIM, replace=False)\n",
    "summaries = []\n",
    "summaries.append(person_summary)\n",
    "for i, model in enumerate(models):\n",
    "    pred_data = np.abs(\n",
    "        model.likelihood(samples_per_model[i]['local_samples'][sub, :, idx, :])['sim_data']\n",
    "        )\n",
    "    pred_df = pd.DataFrame({\n",
    "        'speed_condition': np.tile(person_data['speed_condition'], NUM_RESIM),\n",
    "        'difficulty': np.tile(person_data['difficulty'], NUM_RESIM),\n",
    "        'rt': pred_data.flatten(),\n",
    "        })\n",
    "    grouped = pred_df.groupby(['difficulty', 'speed_condition'])\n",
    "    pred_summary = grouped.agg({\n",
    "        'rt': ['median', lambda x: np.median(np.abs(x - np.median(x)))]\n",
    "    })\n",
    "    pred_summary = pred_summary.reset_index(drop=False)\n",
    "    pred_summary.columns = ['difficulty', 'speed_condition', 'median', 'mad']\n",
    "    summaries.append(pred_summary)"
   ]
  },
  {
   "cell_type": "code",
   "execution_count": null,
   "metadata": {},
   "outputs": [],
   "source": [
    "np.arange(-0.6, 0.7, 0.2)"
   ]
  },
  {
   "cell_type": "code",
   "execution_count": null,
   "metadata": {},
   "outputs": [],
   "source": [
    "BAR_WIDTH = np.arange(-0.6, 0.7, 0.2)\n",
    "MODEL_NAMES = [\n",
    "    'Random walk DDM', 'Mixture random walk DDM',\n",
    "    'Levy flight DDM', 'Regime switching DDM'\n",
    "    ]\n",
    "X_AXIS_VALUES = np.arange(4) * 2\n",
    "LABELS = [\n",
    "    'Empiric', 'Random walk', 'Mixture random walk',\n",
    "    'Levy flight', 'Regime switching'\n",
    "    ]\n",
    "COLORS = [\n",
    "    \"black\", \"orange\", \"maroon\", \"#133a76\", \"green\"\n",
    "]\n",
    "CONDITIONS = [\"Accuracy Condition\", \"Speed Condition\"]"
   ]
  },
  {
   "cell_type": "code",
   "execution_count": null,
   "metadata": {},
   "outputs": [],
   "source": [
    "summaries[0][\"median\"].min() - 0.1\n",
    "summaries[0][\"median\"].max() + 0.3"
   ]
  },
  {
   "cell_type": "code",
   "execution_count": null,
   "metadata": {},
   "outputs": [],
   "source": [
    "COLORS = ['black', '#FFD700', '#DC143C', '#008080', '#008000']\n",
    "COLORS = ['black', '#F68F2F', '#902F2F', '#31546A', '#4F632E']"
   ]
  },
  {
   "cell_type": "code",
   "execution_count": null,
   "metadata": {},
   "outputs": [],
   "source": [
    "fig, axarr = plt.subplots(1, 2, figsize=(16, 6))\n",
    "handles = []\n",
    "for i, ax in enumerate(axarr.flat):\n",
    "    for t in range(len(summaries)):\n",
    "        ax.scatter(\n",
    "            X_AXIS_VALUES + BAR_WIDTH[t],\n",
    "            summaries[t].loc[summaries[t].speed_condition == i, 'median'],\n",
    "            s=75, color=COLORS[t], alpha=0.8, label=LABELS[t]\n",
    "        )\n",
    "\n",
    "        ax.errorbar(\n",
    "            X_AXIS_VALUES + BAR_WIDTH[t],\n",
    "            summaries[t].loc[summaries[t].speed_condition == i, 'median'],\n",
    "            yerr=summaries[t].loc[summaries[t].speed_condition == i, 'mad'],\n",
    "            fmt='none', capsize=5, elinewidth=1,\n",
    "            color=COLORS[t], alpha=0.8\n",
    "            )\n",
    "\n",
    "        handles.append(\n",
    "            Line2D(\n",
    "                xdata=[], ydata=[], marker='o', markersize=5,\n",
    "                color=COLORS[t], alpha=ALPHA,  label=LABELS[t]\n",
    "            )\n",
    "        )\n",
    "\n",
    "    ax.set_title(CONDITIONS[i], fontsize=FONT_SIZE_1)\n",
    "\n",
    "    x_labels = ['1', '2', '3', '4']\n",
    "    x_positions = [0, 2, 4, 6]\n",
    "    ax.set_xticks(x_positions, x_labels)\n",
    "\n",
    "    ax.set_ylim([\n",
    "        summaries[0][\"median\"].min() - 0.1,\n",
    "        summaries[0][\"median\"].max() + 0.4])\n",
    "\n",
    "    ax.tick_params(axis='both', which='major', labelsize=FONT_SIZE_3)\n",
    "    if i == 0:\n",
    "        ax.set_ylabel(\"Response Time\", fontsize=FONT_SIZE_2)\n",
    "\n",
    "    ax.set_xlabel(\"Difficulty\", labelpad=10, fontsize=FONT_SIZE_2)\n",
    "\n",
    "fig.subplots_adjust(hspace=0.5)\n",
    "\n",
    "fig.legend(\n",
    "    handles,\n",
    "    LABELS,\n",
    "    fontsize=FONT_SIZE_2, bbox_to_anchor=(0.5, -0.1),\n",
    "    loc=\"center\", ncol=5\n",
    ")\n",
    "sns.despine()\n",
    "fig.tight_layout()"
   ]
  },
  {
   "cell_type": "code",
   "execution_count": null,
   "metadata": {},
   "outputs": [],
   "source": [
    "handles"
   ]
  },
  {
   "cell_type": "code",
   "execution_count": null,
   "metadata": {},
   "outputs": [],
   "source": [
    "with open('data/posteriors/samples_per_model.pkl', 'rb') as file:\n",
    "    samples_per_model = pickle.load(file)"
   ]
  },
  {
   "cell_type": "code",
   "execution_count": null,
   "metadata": {},
   "outputs": [],
   "source": [
    "data = pd.read_csv('data/data_color_discrimination.csv')"
   ]
  },
  {
   "cell_type": "code",
   "execution_count": null,
   "metadata": {},
   "outputs": [],
   "source": [
    "setup = [get_setup(names, \"smoothing\") for names in model_names]\n",
    "models = [model[0] for model in setup]"
   ]
  },
  {
   "cell_type": "code",
   "execution_count": null,
   "metadata": {},
   "outputs": [],
   "source": [
    "grouped_data = data.groupby(['speed_condition', 'difficulty'])\n",
    "overall_summary = grouped_data.agg({\n",
    "            'rt': ['median', lambda x: np.median(np.abs(x - np.median(x)))]\n",
    "        })\n",
    "overall_summary = overall_summary.reset_index(drop=False)\n",
    "overall_summary.columns = ['speed_condition', 'difficulty', 'median', 'mad']"
   ]
  },
  {
   "cell_type": "code",
   "execution_count": null,
   "metadata": {},
   "outputs": [],
   "source": [
    "summary_per_model = []\n",
    "summary_per_model.append(overall_summary)\n",
    "for i, model in enumerate(models):\n",
    "    model_resim_data = np.zeros((NUM_SUBS, NUM_RESIM, NUM_OBS, 3))\n",
    "    for sub in range(NUM_SUBS):\n",
    "        person_data = data.loc[data.id == sub+1]\n",
    "        idx = np.random.choice(np.arange(NUM_SAMPLES), NUM_RESIM, replace=False)\n",
    "        pred_data = np.abs(\n",
    "            model.likelihood(samples_per_model[i]['local_samples'][sub, :, idx, :])['sim_data']\n",
    "        )\n",
    "        pred_rt = pred_data[:, :, None]\n",
    "        condition = np.tile(person_data['speed_condition'], (NUM_RESIM, 1))[:, :, None]\n",
    "        difficulty = np.tile(person_data['difficulty'], (NUM_RESIM, 1))[:, :, None]\n",
    "        model_resim_data[sub] = np.c_[pred_rt, condition, difficulty]\n",
    "\n",
    "    # Reshape the array to (14*100*700, 3)\n",
    "    reshaped_data = model_resim_data.reshape(-1, 3)\n",
    "    df = pd.DataFrame(reshaped_data, columns=['rt', 'speed_condition', 'difficulty'])\n",
    "    grouped_data = df.groupby(['speed_condition', 'difficulty'])\n",
    "    summary = grouped_data.agg({\n",
    "        'rt': ['median', lambda x: np.median(np.abs(x - np.median(x)))]\n",
    "    })\n",
    "    summary = summary.reset_index(drop=False)\n",
    "    summary.columns = ['speed_condition', 'difficulty', 'median', 'mad']\n",
    "    summary_per_model.append(summary)\n"
   ]
  },
  {
   "cell_type": "code",
   "execution_count": null,
   "metadata": {},
   "outputs": [],
   "source": [
    "summaries = summary_per_model"
   ]
  },
  {
   "cell_type": "code",
   "execution_count": null,
   "metadata": {},
   "outputs": [],
   "source": []
  },
  {
   "cell_type": "code",
   "execution_count": null,
   "metadata": {},
   "outputs": [],
   "source": [
    "ALPHA = 0.95\n",
    "COLORS = ['']"
   ]
  },
  {
   "cell_type": "code",
   "execution_count": null,
   "metadata": {},
   "outputs": [],
   "source": [
    "handles = []\n",
    "fig, axarr = plt.subplots(1, 2, figsize=(16, 6))\n",
    "for i, ax in enumerate(axarr.flat):\n",
    "    for t in range(len(summaries)):\n",
    "        ax.scatter(\n",
    "            X_AXIS_VALUES + BAR_WIDTH[t],\n",
    "            summaries[t].loc[summaries[t].speed_condition == i, 'median'],\n",
    "            s=75, color=COLORS[t], label=LABELS[t]\n",
    "        )\n",
    "\n",
    "        ax.errorbar(\n",
    "            X_AXIS_VALUES + BAR_WIDTH[t],\n",
    "            summaries[t].loc[summaries[t].speed_condition == i, 'median'],\n",
    "            yerr=summaries[t].loc[summaries[t].speed_condition == i, 'mad'],\n",
    "            # fmt='none', capsize=5, elinewidth=2,\n",
    "            # color=COLORS[t]\n",
    "            fmt='o', color=COLORS[t], markersize=8, elinewidth=2, capsize=0\n",
    "            )\n",
    "\n",
    "        handles.append(\n",
    "            Line2D(\n",
    "                xdata=[], ydata=[], marker='o', markersize=10, lw=3,\n",
    "                color=COLORS[t], label=LABELS[t]\n",
    "            )\n",
    "        )\n",
    "\n",
    "    ax.set_title(CONDITIONS[i], fontsize=FONT_SIZE_1)\n",
    "\n",
    "    x_labels = ['1', '2', '3', '4']\n",
    "    x_positions = [0, 2, 4, 6]\n",
    "    ax.set_xticks(x_positions, x_labels)\n",
    "\n",
    "    ax.set_ylim([\n",
    "        summaries[0][\"median\"].min() - 0.1,\n",
    "        summaries[0][\"median\"].max() + 0.4])\n",
    "\n",
    "    ax.tick_params(axis='both', which='major', labelsize=FONT_SIZE_3)\n",
    "    if i == 0:\n",
    "        ax.set_ylabel(\"Response Time\", labelpad=10, fontsize=FONT_SIZE_2)\n",
    "\n",
    "    ax.set_xlabel(\"Difficulty\", labelpad=10, fontsize=FONT_SIZE_2)\n",
    "\n",
    "# legend\n",
    "fig.subplots_adjust(hspace=0.5)\n",
    "fig.legend(\n",
    "    handles,\n",
    "    LABELS,\n",
    "    fontsize=FONT_SIZE_2, bbox_to_anchor=(0.5, -0.05),\n",
    "    loc=\"center\", ncol=5\n",
    "    )\n",
    "sns.despine()\n",
    "fig.tight_layout()\n",
    "plt.savefig(f\"plots/post_resimulation_overall.pdf\", dpi=300, bbox_inches=\"tight\")"
   ]
  }
 ],
 "metadata": {
  "kernelspec": {
   "display_name": "beef",
   "language": "python",
   "name": "python3"
  },
  "language_info": {
   "codemirror_mode": {
    "name": "ipython",
    "version": 3
   },
   "file_extension": ".py",
   "mimetype": "text/x-python",
   "name": "python",
   "nbconvert_exporter": "python",
   "pygments_lexer": "ipython3",
   "version": "3.11.4"
  },
  "orig_nbformat": 4
 },
 "nbformat": 4,
 "nbformat_minor": 2
}
