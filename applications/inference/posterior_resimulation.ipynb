{
 "cells": [
  {
   "cell_type": "code",
   "execution_count": 1,
   "metadata": {},
   "outputs": [
    {
     "name": "stderr",
     "output_type": "stream",
     "text": [
      "/Users/lukas/opt/miniconda3/envs/beef/lib/python3.11/site-packages/bayesflow/trainers.py:27: TqdmExperimentalWarning: Using `tqdm.autonotebook.tqdm` in notebook mode. Use `tqdm.tqdm` instead to force console mode (e.g. in jupyter console)\n",
      "  from tqdm.autonotebook import tqdm\n"
     ]
    }
   ],
   "source": [
    "# import sys\n",
    "# sys.path.append(\"../\")\n",
    "# sys.path.append(\"../../../assets\")\n",
    "\n",
    "# Get rid of annoying tf warning\n",
    "import os\n",
    "os.environ['TF_CPP_MIN_LOG_LEVEL'] = '3' \n",
    "\n",
    "import numpy as np\n",
    "import matplotlib.pyplot as plt\n",
    "from matplotlib.lines import Line2D\n",
    "from matplotlib.patches import Patch\n",
    "import seaborn as sns\n",
    "import tensorflow as tf\n",
    "from tensorflow.keras.backend import clear_session\n",
    "import bayesflow as beef\n",
    "import pandas as pd\n",
    "import pickle\n",
    "\n",
    "# from experiments import NonStationaryDDMExperiment\n",
    "# from models import RandomWalkDDM, MixtureRandomWalkDDM, LevyFlightDDM, RegimeSwitchingDDM\n",
    "from helpers import get_setup\n",
    "from configurations import model_names"
   ]
  },
  {
   "cell_type": "code",
   "execution_count": 14,
   "metadata": {},
   "outputs": [],
   "source": [
    "with open('data/posteriors/samples_per_model.pkl', 'rb') as file:\n",
    "    samples_per_model = pickle.load(file)"
   ]
  },
  {
   "cell_type": "code",
   "execution_count": 8,
   "metadata": {},
   "outputs": [
    {
     "name": "stderr",
     "output_type": "stream",
     "text": [
      "INFO:root:Performing 2 pilot runs with the random_walk_ddm model...\n",
      "INFO:root:Shape of parameter batch after 2 pilot simulations: (batch_size = 2, 800, 3)\n",
      "INFO:root:Shape of simulation batch after 2 pilot simulations: (batch_size = 2, 800)\n",
      "INFO:root:Shape of hyper_prior_draws batch after 2 pilot simulations: (batch_size = 2, 3)\n",
      "INFO:root:Shape of local_prior_draws batch after 2 pilot simulations: (batch_size = 2, 800, 3)\n",
      "INFO:root:No shared_prior_draws provided.\n",
      "INFO:root:No optional simulation batchable context provided.\n",
      "INFO:root:No optional simulation non-batchable context provided.\n",
      "INFO:root:No optional prior batchable context provided.\n",
      "INFO:root:No optional prior non-batchable context provided.\n",
      "INFO:root:Loaded loss history from checkpoints/smoothing_random_walk_ddm/history_75.pkl.\n",
      "INFO:root:Networks loaded from checkpoints/smoothing_random_walk_ddm/ckpt-75\n"
     ]
    },
    {
     "data": {
      "text/plain": [
       "[<models.RandomWalkDDM at 0x2974bb010>,\n",
       " <experiments.NonStationaryDDMExperiment at 0x2979ce290>]"
      ]
     },
     "execution_count": 8,
     "metadata": {},
     "output_type": "execute_result"
    }
   ],
   "source": [
    "get_setup(model_names[0], skip_checks=True)"
   ]
  },
  {
   "cell_type": "code",
   "execution_count": 9,
   "metadata": {},
   "outputs": [
    {
     "name": "stderr",
     "output_type": "stream",
     "text": [
      "INFO:root:Performing 2 pilot runs with the random_walk_ddm model...\n",
      "INFO:root:Shape of parameter batch after 2 pilot simulations: (batch_size = 2, 800, 3)\n",
      "INFO:root:Shape of simulation batch after 2 pilot simulations: (batch_size = 2, 800)\n",
      "INFO:root:Shape of hyper_prior_draws batch after 2 pilot simulations: (batch_size = 2, 3)\n",
      "INFO:root:Shape of local_prior_draws batch after 2 pilot simulations: (batch_size = 2, 800, 3)\n",
      "INFO:root:No shared_prior_draws provided.\n",
      "INFO:root:No optional simulation batchable context provided.\n",
      "INFO:root:No optional simulation non-batchable context provided.\n",
      "INFO:root:No optional prior batchable context provided.\n",
      "INFO:root:No optional prior non-batchable context provided.\n",
      "INFO:root:Loaded loss history from checkpoints/smoothing_random_walk_ddm/history_75.pkl.\n",
      "INFO:root:Networks loaded from checkpoints/smoothing_random_walk_ddm/ckpt-75\n",
      "INFO:root:Performing a consistency check with provided components...\n",
      "INFO:root:Done.\n",
      "INFO:root:Performing 2 pilot runs with the mixture_random_walk_ddm model...\n",
      "INFO:root:Shape of parameter batch after 2 pilot simulations: (batch_size = 2, 800, 3)\n",
      "INFO:root:Shape of simulation batch after 2 pilot simulations: (batch_size = 2, 800)\n",
      "INFO:root:Shape of hyper_prior_draws batch after 2 pilot simulations: (batch_size = 2, 5)\n",
      "INFO:root:Shape of local_prior_draws batch after 2 pilot simulations: (batch_size = 2, 800, 3)\n",
      "INFO:root:No shared_prior_draws provided.\n",
      "INFO:root:No optional simulation batchable context provided.\n",
      "INFO:root:No optional simulation non-batchable context provided.\n",
      "INFO:root:No optional prior batchable context provided.\n",
      "INFO:root:No optional prior non-batchable context provided.\n",
      "INFO:root:Loaded loss history from checkpoints/smoothing_mixture_random_walk_ddm/history_75.pkl.\n",
      "INFO:root:Networks loaded from checkpoints/smoothing_mixture_random_walk_ddm/ckpt-75\n",
      "INFO:root:Performing a consistency check with provided components...\n",
      "INFO:root:Done.\n",
      "INFO:root:Performing 2 pilot runs with the levy_flight_ddm model...\n",
      "INFO:root:Shape of parameter batch after 2 pilot simulations: (batch_size = 2, 800, 3)\n",
      "INFO:root:Shape of simulation batch after 2 pilot simulations: (batch_size = 2, 800)\n",
      "INFO:root:Shape of hyper_prior_draws batch after 2 pilot simulations: (batch_size = 2, 5)\n",
      "INFO:root:Shape of local_prior_draws batch after 2 pilot simulations: (batch_size = 2, 800, 3)\n",
      "INFO:root:No shared_prior_draws provided.\n",
      "INFO:root:No optional simulation batchable context provided.\n",
      "INFO:root:No optional simulation non-batchable context provided.\n",
      "INFO:root:No optional prior batchable context provided.\n",
      "INFO:root:No optional prior non-batchable context provided.\n",
      "INFO:root:Loaded loss history from checkpoints/smoothing_levy_flight_ddm/history_75.pkl.\n",
      "INFO:root:Networks loaded from checkpoints/smoothing_levy_flight_ddm/ckpt-75\n",
      "INFO:root:Performing a consistency check with provided components...\n",
      "INFO:root:Done.\n",
      "INFO:root:Performing 2 pilot runs with the regime_switching_ddm model...\n",
      "INFO:root:Shape of parameter batch after 2 pilot simulations: (batch_size = 2, 800, 3)\n",
      "INFO:root:Shape of simulation batch after 2 pilot simulations: (batch_size = 2, 800)\n",
      "INFO:root:Shape of hyper_prior_draws batch after 2 pilot simulations: (batch_size = 2, 3)\n",
      "INFO:root:Shape of local_prior_draws batch after 2 pilot simulations: (batch_size = 2, 800, 3)\n",
      "INFO:root:No shared_prior_draws provided.\n",
      "INFO:root:No optional simulation batchable context provided.\n",
      "INFO:root:No optional simulation non-batchable context provided.\n",
      "INFO:root:No optional prior batchable context provided.\n",
      "INFO:root:No optional prior non-batchable context provided.\n",
      "INFO:root:Loaded loss history from checkpoints/smoothing_regime_switching_ddm/history_75.pkl.\n",
      "INFO:root:Networks loaded from checkpoints/smoothing_regime_switching_ddm/ckpt-75\n",
      "INFO:root:Performing a consistency check with provided components...\n",
      "INFO:root:Done.\n"
     ]
    }
   ],
   "source": [
    "setup = [get_setup(names, \"smoothing\") for names in model_names]\n",
    "models = [model[0] for model in setup]\n",
    "trainers = [trainer[1] for trainer in setup]"
   ]
  },
  {
   "cell_type": "code",
   "execution_count": 3,
   "metadata": {},
   "outputs": [
    {
     "data": {
      "text/plain": [
       "[<models.RandomWalkDDM at 0x28a34c950>,\n",
       " <models.MixtureRandomWalkDDM at 0x28de20f10>,\n",
       " <models.LevyFlightDDM at 0x28de91290>,\n",
       " <models.RegimeSwitchingDDM at 0x28f2496d0>]"
      ]
     },
     "execution_count": 3,
     "metadata": {},
     "output_type": "execute_result"
    }
   ],
   "source": [
    "models"
   ]
  },
  {
   "cell_type": "code",
   "execution_count": null,
   "metadata": {},
   "outputs": [],
   "source": [
    "NUM_OBS = 768\n",
    "NUM_SAMPLES = 1000\n",
    "NUM_RESIMULATIONS = 100\n",
    "\n",
    "FONT_SIZE_1 = 24\n",
    "FONT_SIZE_2 = 20\n",
    "FONT_SIZE_3 = 16\n",
    "\n",
    "import matplotlib\n",
    "matplotlib.rcParams['font.sans-serif'] = \"Palatino\"\n",
    "matplotlib.rcParams['font.family'] = \"sans-serif\""
   ]
  },
  {
   "cell_type": "markdown",
   "metadata": {},
   "source": [
    "# Fit models"
   ]
  },
  {
   "cell_type": "code",
   "execution_count": null,
   "metadata": {},
   "outputs": [],
   "source": [
    "which = 6\n",
    "data = pd.read_csv('../data/data_color_discrimination.csv')\n",
    "person_data = data.loc[data.id == which]\n",
    "person_rt = np.where(person_data['correct'] == 0, -person_data['rt'], person_data['rt'])[None, :, None]\n",
    "person_rt.shape"
   ]
  },
  {
   "cell_type": "code",
   "execution_count": null,
   "metadata": {},
   "outputs": [],
   "source": [
    "samples_z = mrw_ddm_exp.amortizer.sample({'summary_conditions': person_rt}, NUM_SAMPLES)"
   ]
  },
  {
   "cell_type": "code",
   "execution_count": null,
   "metadata": {},
   "outputs": [],
   "source": [
    "local_post = samples_z['local_samples'] * mrw_ddm.local_prior_stds + mrw_ddm.local_prior_means\n",
    "local_post_t = np.transpose(local_post, (1, 0, 2))"
   ]
  },
  {
   "cell_type": "code",
   "execution_count": null,
   "metadata": {},
   "outputs": [],
   "source": [
    "idx = np.random.choice(np.arange(NUM_SAMPLES), NUM_RESIMULATIONS, replace=False)\n",
    "pred_data = np.abs(mrw_ddm.likelihood(local_post_t[idx, :, :])['sim_data'])"
   ]
  },
  {
   "cell_type": "code",
   "execution_count": null,
   "metadata": {},
   "outputs": [],
   "source": [
    "pred_df = pd.DataFrame({\n",
    "    'speed_condition': np.tile(person_data['speed_condition'], NUM_RESIMULATIONS),\n",
    "    'difficulty': np.tile(person_data['difficulty'], NUM_RESIMULATIONS),\n",
    "    'rt': pred_data.flatten(),\n",
    "    })"
   ]
  },
  {
   "cell_type": "code",
   "execution_count": null,
   "metadata": {},
   "outputs": [],
   "source": [
    "grouped = pred_df.groupby(['difficulty', 'speed_condition'])\n",
    "pred_summary = grouped.agg({\n",
    "    'rt': ['median', lambda x: np.median(np.abs(x - np.median(x)))]\n",
    "})\n",
    "pred_summary = pred_summary.reset_index(drop=False)\n",
    "pred_summary.columns = ['difficulty', 'speed_condition', 'median', 'mad']\n",
    "pred_summary"
   ]
  },
  {
   "cell_type": "code",
   "execution_count": null,
   "metadata": {},
   "outputs": [],
   "source": [
    "grouped = data.groupby(['speed_condition', 'difficulty'])\n",
    "true_summary = grouped.agg({\n",
    "    'rt': ['median', lambda x: np.median(np.abs(x - np.median(x)))]\n",
    "})\n",
    "true_summary = true_summary.reset_index(drop=False)\n",
    "true_summary.columns = ['speed_condition', 'difficulty', 'median', 'mad']"
   ]
  },
  {
   "cell_type": "code",
   "execution_count": null,
   "metadata": {},
   "outputs": [],
   "source": [
    "[true_summary, pred_summary]"
   ]
  },
  {
   "cell_type": "code",
   "execution_count": null,
   "metadata": {},
   "outputs": [],
   "source": [
    "bar_width = 0.1\n",
    "\n",
    "# Create a figure with subplots\n",
    "fig, ax = plt.subplots(1, 2, figsize=(16, 6))\n",
    "\n",
    "ax[0].scatter(\n",
    "    pred_summary.loc[pred_summary.speed_condition == 0, 'difficulty'] * 2 - bar_width,\n",
    "    pred_summary.loc[pred_summary.speed_condition == 0, 'median'],\n",
    "    color='maroon', alpha=0.8, label=\"Mixture random Walk DDM\"\n",
    ")\n",
    "ax[0].errorbar(\n",
    "    pred_summary.loc[pred_summary.speed_condition == 0, 'difficulty'] * 2 - bar_width,\n",
    "    pred_summary.loc[pred_summary.speed_condition == 0, 'median'],\n",
    "    yerr=pred_summary.loc[pred_summary.speed_condition == 0, 'mad'],\n",
    "    fmt='none', capsize=5, elinewidth=1,\n",
    "    color='maroon', alpha=0.8\n",
    "    )\n",
    "ax[0].scatter(\n",
    "    true_summary.loc[true_summary.speed_condition == 0, 'difficulty'] * 2 + bar_width,\n",
    "    true_summary.loc[true_summary.speed_condition == 0, 'median'],\n",
    "    color='black', alpha=0.8, label=\"Empiric\"\n",
    ")\n",
    "ax[0].errorbar(\n",
    "    true_summary.loc[true_summary.speed_condition == 0, 'difficulty'] * 2 + bar_width,\n",
    "    true_summary.loc[true_summary.speed_condition == 0, 'median'],\n",
    "    yerr=true_summary.loc[true_summary.speed_condition == 0, 'mad'],\n",
    "    fmt='none', capsize=5, elinewidth=1,\n",
    "    color='black', alpha=0.8\n",
    "    )\n",
    "ax[1].scatter(\n",
    "    pred_summary.loc[pred_summary.speed_condition == 1, 'difficulty'] * 2 - bar_width,\n",
    "    pred_summary.loc[pred_summary.speed_condition == 1, 'median'],\n",
    "    color='maroon', alpha=0.8, label=\"Mixture random Walk DDM\"\n",
    ")\n",
    "ax[1].errorbar(\n",
    "    pred_summary.loc[pred_summary.speed_condition == 1, 'difficulty'] * 2 - bar_width,\n",
    "    pred_summary.loc[pred_summary.speed_condition == 1, 'median'],\n",
    "    yerr=pred_summary.loc[pred_summary.speed_condition == 1, 'mad'],\n",
    "    fmt='none', capsize=5, elinewidth=1,\n",
    "    color='maroon', alpha=0.8\n",
    "    )\n",
    "ax[1].scatter(\n",
    "    true_summary.loc[true_summary.speed_condition == 1, 'difficulty'] * 2 + bar_width,\n",
    "    true_summary.loc[true_summary.speed_condition == 1, 'median'],\n",
    "    color='black', alpha=0.8, label=\"Empiric\"\n",
    ")\n",
    "ax[1].errorbar(\n",
    "    true_summary.loc[true_summary.speed_condition == 1, 'difficulty'] * 2 + bar_width,\n",
    "    true_summary.loc[true_summary.speed_condition == 1, 'median'],\n",
    "    yerr=true_summary.loc[true_summary.speed_condition == 1, 'mad'],\n",
    "    fmt='none', capsize=5, elinewidth=1,\n",
    "    color='black', alpha=0.8\n",
    "    )\n",
    "\n",
    "ax[0].set_title(\"Accuracy Condition\", fontsize=FONT_SIZE_1)\n",
    "ax[1].set_title(\"Speed Condition\", fontsize=FONT_SIZE_1)\n",
    "\n",
    "x_labels = ['1', '2', '3', '4']\n",
    "x_positions = [0, 2, 4, 6]\n",
    "\n",
    "ax[0].set_xticks(x_positions, x_labels)\n",
    "ax[1].set_xticks(x_positions, x_labels)\n",
    "\n",
    "ax[0].set_ylim([0.3, 1.6])\n",
    "ax[1].set_ylim([0.3, 1.6])\n",
    "\n",
    "\n",
    "ax[0].tick_params(axis='both', which='major', labelsize=FONT_SIZE_3)\n",
    "ax[1].tick_params(axis='both', which='major', labelsize=FONT_SIZE_3)\n",
    "ax[0].set_ylabel(\"Response Time\", fontsize=FONT_SIZE_2)\n",
    "ax[0].set_xlabel(\"Difficulty\", labelpad=10, fontsize=FONT_SIZE_2)\n",
    "ax[1].set_xlabel(\"Difficulty\", labelpad=10, fontsize=FONT_SIZE_2)\n",
    "\n",
    "\n",
    "fig.subplots_adjust(hspace=0.5)\n",
    "\n",
    "# legend\n",
    "handles = [\n",
    "    Line2D(\n",
    "        xdata=[], ydata=[], marker='o', markersize=5,\n",
    "        color='maroon', alpha=0.8,  label=\"Mixture random Walk DDM\"\n",
    "        ),\n",
    "    Line2D(\n",
    "        xdata=[], ydata=[], marker='o', markersize=5,\n",
    "        color='black', alpha=0.8,  label=\"Empiric\"\n",
    "        )\n",
    "    ]\n",
    "\n",
    "fig.legend(\n",
    "    handles,\n",
    "    [\"Mixture random walk DDM\", \"Empiric\"],\n",
    "    fontsize=FONT_SIZE_2, bbox_to_anchor=(0.5, -0.1),\n",
    "    loc=\"center\", ncol=2\n",
    "    )\n",
    "sns.despine()\n",
    "fig.tight_layout()"
   ]
  },
  {
   "cell_type": "code",
   "execution_count": null,
   "metadata": {},
   "outputs": [],
   "source": []
  }
 ],
 "metadata": {
  "kernelspec": {
   "display_name": "beef",
   "language": "python",
   "name": "python3"
  },
  "language_info": {
   "codemirror_mode": {
    "name": "ipython",
    "version": 3
   },
   "file_extension": ".py",
   "mimetype": "text/x-python",
   "name": "python",
   "nbconvert_exporter": "python",
   "pygments_lexer": "ipython3",
   "version": "3.11.4"
  },
  "orig_nbformat": 4
 },
 "nbformat": 4,
 "nbformat_minor": 2
}
