{
 "cells": [
  {
   "cell_type": "code",
   "execution_count": null,
   "metadata": {},
   "outputs": [],
   "source": [
    "import numpy as np\n",
    "import pickle\n",
    "import matplotlib.pyplot as plt\n",
    "from matplotlib.lines import Line2D\n",
    "import seaborn as sns\n",
    "from tqdm import tqdm\n",
    "import tensorflow as tf\n",
    "from sklearn.metrics import r2_score\n",
    "import bayesflow as bf\n",
    "\n",
    "import sys\n",
    "sys.path.append(\"../../../assets\")\n",
    "sys.path.append(\"../\")\n",
    "from experiments import NonStationaryDDMExperiment\n",
    "from models import MixtureRandomWalkDDM, RegimeSwitchingDDM, RandomWalkDDM\n",
    "from helpers import get_setup\n",
    "from configurations import model_names"
   ]
  },
  {
   "cell_type": "code",
   "execution_count": null,
   "metadata": {},
   "outputs": [],
   "source": [
    "%load_ext autoreload\n",
    "%autoreload 2\n",
    "# Suppress scientific notation for floats\n",
    "np.set_printoptions(suppress=True)\n",
    "# Configure rng\n",
    "RNG = np.random.default_rng()"
   ]
  },
  {
   "cell_type": "code",
   "execution_count": null,
   "metadata": {},
   "outputs": [],
   "source": [
    "NUM_OBS = 768\n",
    "NUM_SUBS = 14\n",
    "NUM_SAMPLES = 500\n",
    "NUM_SIM = 100\n",
    "\n",
    "LOCAL_PARAM_LABELS = ['Drift rate', 'Threshold', 'Non-decision time']\n",
    "LOCAL_PARAM_NAMES  = [r'v', r'a', r'\\tau']\n",
    "\n",
    "FONT_SIZE_1 = 18\n",
    "FONT_SIZE_2 = 16\n",
    "FONT_SIZE_3 = 14\n",
    "\n",
    "import matplotlib\n",
    "matplotlib.rcParams['font.sans-serif'] = \"Palatino\"\n",
    "matplotlib.rcParams['font.family'] = \"sans-serif\""
   ]
  },
  {
   "cell_type": "markdown",
   "metadata": {},
   "source": [
    "## Closed World"
   ]
  },
  {
   "cell_type": "markdown",
   "metadata": {},
   "source": [
    "### Get Model Setup"
   ]
  },
  {
   "cell_type": "code",
   "execution_count": null,
   "metadata": {},
   "outputs": [],
   "source": [
    "mrw_model = MixtureRandomWalkDDM()\n",
    "mrw_trainer = NonStationaryDDMExperiment(\n",
    "    mrw_model,\n",
    "    summary_network_type=\"smoothing\",\n",
    "    checkpoint_path=\"../checkpoints/smoothing_mixture_random_walk_ddm\",\n",
    "    skip_checks=True\n",
    ")"
   ]
  },
  {
   "cell_type": "code",
   "execution_count": null,
   "metadata": {},
   "outputs": [],
   "source": [
    "rs_model = RegimeSwitchingDDM()\n",
    "rs_trainer = NonStationaryDDMExperiment(\n",
    "    rs_model,\n",
    "    summary_network_type=\"smoothing\",\n",
    "    checkpoint_path=\"../checkpoints/smoothing_regime_switching_ddm\",\n",
    "    skip_checks=True\n",
    ")"
   ]
  },
  {
   "cell_type": "markdown",
   "metadata": {},
   "source": [
    "### Data Simulation"
   ]
  },
  {
   "cell_type": "code",
   "execution_count": null,
   "metadata": {},
   "outputs": [],
   "source": [
    "mrw_data = mrw_model.generate(NUM_SIM)\n",
    "rs_data = rs_model.generate(NUM_SIM)\n",
    "validation_data = [mrw_data, rs_data]"
   ]
  },
  {
   "cell_type": "code",
   "execution_count": null,
   "metadata": {},
   "outputs": [],
   "source": [
    "true_mrw_data_params = mrw_data['local_prior_draws']\n",
    "true_rs_data_params = rs_data['local_prior_draws']\n",
    "true_params = [true_mrw_data_params, true_rs_data_params]"
   ]
  },
  {
   "cell_type": "markdown",
   "metadata": {},
   "source": [
    "### Cross Fitting"
   ]
  },
  {
   "cell_type": "code",
   "execution_count": null,
   "metadata": {},
   "outputs": [],
   "source": [
    "posterior_samples = []\n",
    "with tf.device('/cpu:0'):\n",
    "    for i in range(len(validation_data)):\n",
    "        mrw_post_samples = np.zeros((NUM_SIM, 800, NUM_SAMPLES, 3))\n",
    "        rs_post_samples = np.zeros((NUM_SIM, 800, NUM_SAMPLES, 3))\n",
    "        for j in tqdm(range(NUM_SIM)):\n",
    "            mrw_post_samples[j] = mrw_trainer.amortizer.sample(\n",
    "                {\"summary_conditions\": validation_data[i]['sim_data'][j:j+1][:, :, None]},\n",
    "                NUM_SAMPLES\n",
    "            )['local_samples']\n",
    "            rs_post_samples[j] = rs_trainer.amortizer.sample(\n",
    "                {\"summary_conditions\": validation_data[i]['sim_data'][j:j+1][:, :, None]},\n",
    "                NUM_SAMPLES\n",
    "            )['local_samples']\n",
    "        posterior_samples.append(mrw_post_samples * mrw_model.local_prior_stds + mrw_model.local_prior_means)\n",
    "        posterior_samples.append(rs_post_samples * rs_model.local_prior_stds + rs_model.local_prior_means)"
   ]
  },
  {
   "cell_type": "code",
   "execution_count": 79,
   "metadata": {},
   "outputs": [],
   "source": [
    "with open('../data/posteriors/posterior_samples_cross_fitting.pkl', 'wb') as file:\n",
    "        pickle.dump(posterior_samples, file)"
   ]
  },
  {
   "cell_type": "markdown",
   "metadata": {},
   "source": [
    "### Evaluation"
   ]
  },
  {
   "cell_type": "code",
   "execution_count": null,
   "metadata": {},
   "outputs": [],
   "source": [
    "mrw_well = 1 / (np.max(np.median(posterior_samples[0], axis=2), axis=0) - np.min(np.median(posterior_samples[0], axis=2), axis=0)) * np.sqrt(\n",
    "    np.mean((np.median(posterior_samples[0], axis=2) - true_mrw_data_params)**2, axis=0)\n",
    ")\n",
    "\n",
    "mrw_miss = 1 / (np.max(np.median(posterior_samples[2], axis=2), axis=0) - np.min(np.median(posterior_samples[2], axis=2), axis=0)) * np.sqrt(\n",
    "    np.mean((np.median(posterior_samples[2], axis=2) - true_rs_data_params)**2, axis=0)\n",
    ")\n",
    "\n",
    "rs_well = 1 / (np.max(np.median(posterior_samples[3], axis=2), axis=0) - np.min(np.median(posterior_samples[3], axis=2), axis=0)) * np.sqrt(\n",
    "    np.mean((np.median(posterior_samples[3], axis=2) - true_rs_data_params)**2, axis=0)\n",
    ")\n",
    "\n",
    "rs_miss = 1 / (np.max(np.median(posterior_samples[1], axis=2), axis=0) - np.min(np.median(posterior_samples[1], axis=2), axis=0)) * np.sqrt(\n",
    "    np.mean((np.median(posterior_samples[1], axis=2) - true_mrw_data_params)**2, axis=0)\n",
    ")\n",
    "\n",
    "nrmse = [mrw_well, mrw_miss, rs_well, rs_miss]"
   ]
  },
  {
   "cell_type": "code",
   "execution_count": null,
   "metadata": {},
   "outputs": [],
   "source": [
    "subfigure_titles = [\"Mixture random walk DDM\", \"Regime switching DDM\"]"
   ]
  },
  {
   "cell_type": "code",
   "execution_count": null,
   "metadata": {},
   "outputs": [],
   "source": [
    "time = np.arange(800)\n",
    "handles = [\n",
    "        Line2D(xdata=[], ydata=[], color=\"green\", alpha=0.8, label=\"Well-specified (data from same model)\"),\n",
    "        Line2D(xdata=[], ydata=[], color='maroon', alpha=0.8, label=\"Missspecified (data from other model)\")\n",
    "]\n",
    "fig = plt.figure(figsize=(16, 6))\n",
    "# create 4x1 subfigs\n",
    "subfigs = fig.subfigures(nrows=2, ncols=1)\n",
    "for row, subfig in enumerate(subfigs):\n",
    "    if row == 0:\n",
    "        subfig.suptitle(subfigure_titles[row], fontsize=20, fontweight='semibold', y=1.1)\n",
    "    else:\n",
    "        subfig.suptitle(subfigure_titles[row], fontsize=20, fontweight='semibold')\n",
    "\n",
    "    # create 1x3 subplots per subfig\n",
    "    axs = subfig.subplots(nrows=1, ncols=3)\n",
    "    for col, ax in enumerate(axs):\n",
    "        if row == 0:\n",
    "            ax.plot(\n",
    "                time, nrmse[0][:, col], color='green', alpha=0.8, lw=1\n",
    "            )\n",
    "            ax.plot(\n",
    "                time, nrmse[1][:, col], color='maroon', alpha=0.8, lw=1\n",
    "            )\n",
    "        else:\n",
    "            ax.plot(\n",
    "                time, nrmse[2][:, col], color='green', alpha=0.8, lw=1\n",
    "            )\n",
    "            ax.plot(\n",
    "                time, nrmse[3][:, col], color='maroon', alpha=0.8, lw=1\n",
    "            )\n",
    "        ax.grid(alpha=0.5)\n",
    "        \n",
    "        if row == 0:\n",
    "            ax.set_title(f'{LOCAL_PARAM_LABELS[col]} (${LOCAL_PARAM_NAMES[col]}$)', fontsize=FONT_SIZE_1, pad=10)\n",
    "        if row == 1:  \n",
    "            ax.set_xlabel('Time', fontsize=FONT_SIZE_2)\n",
    "        if row ==1 and col == 1:\n",
    "            ax.legend(\n",
    "                handles=handles, fontsize=FONT_SIZE_2, loc='upper center', \n",
    "                bbox_to_anchor=(0.5, -0.25), ncol=2\n",
    "            )\n",
    "        if col == 0:\n",
    "            ax.set_ylabel('NRMSE', fontsize=FONT_SIZE_2)\n",
    "        \n",
    "        ax.tick_params(axis='both', which='major', labelsize=FONT_SIZE_3)\n",
    "        ax.set_xticks([1, 200, 400, 600, 800])\n",
    "# fig.subplots_adjust(hspace=0.4)\n",
    "fig.subplots_adjust(bottom=0.1, wspace=0.15, hspace=1)\n",
    "\n",
    "sns.despine()\n",
    "fig.savefig(\"../plots/misspecification_closed_world.jpg\", dpi=300, bbox_inches=\"tight\")"
   ]
  },
  {
   "cell_type": "markdown",
   "metadata": {},
   "source": [
    "## Open World"
   ]
  },
  {
   "cell_type": "code",
   "execution_count": null,
   "metadata": {},
   "outputs": [],
   "source": [
    "with open('../data/posteriors/samples_per_model.pkl', 'rb') as file:\n",
    "    samples_per_model = pickle.load(file)"
   ]
  },
  {
   "cell_type": "code",
   "execution_count": null,
   "metadata": {},
   "outputs": [],
   "source": [
    "mrw_posteriors = samples_per_model[1]['local_samples']\n",
    "rs_posteriors = samples_per_model[3]['local_samples']\n",
    "mrw_posteriors_median = np.median(mrw_posteriors, axis=2)\n",
    "rs_posteriors_median = np.median(rs_posteriors, axis=2)"
   ]
  },
  {
   "cell_type": "code",
   "execution_count": null,
   "metadata": {},
   "outputs": [],
   "source": [
    "time = np.arange(mrw_posteriors.shape[1])\n",
    "fig, ax = plt.subplots(14, 3, figsize=(12, 18))\n",
    "for i in range(NUM_SUBS):\n",
    "    for j in range(3):\n",
    "        ax[i, j].plot(\n",
    "            time, mrw_posteriors_median[i, :, j],\n",
    "            color='maroon', lw=0.8, alpha=0.9,\n",
    "            label=\"Mixture random walk DDM\"\n",
    "        )\n",
    "        ax[i, j].plot(\n",
    "            time, rs_posteriors_median[i, :, j],\n",
    "            color='green', lw=0.8, alpha=0.9,\n",
    "            label=\"Regime switching DDM\"\n",
    "        )\n",
    "        ax[i, j].set_yticks([])\n",
    "        if i == 0:\n",
    "            ax[i, j].set_title(f'{LOCAL_PARAM_LABELS[j]} (${LOCAL_PARAM_NAMES[j]}$)', fontsize=FONT_SIZE_1, pad=10)\n",
    "        if i < 13:\n",
    "            ax[i, j].set_xticks([])\n",
    "        else:\n",
    "            ax[i, j].set_xlabel(\"Trial\", labelpad=10, fontsize=FONT_SIZE_3)\n",
    "    ax[i, 0].set_ylabel(f\"Subject #{i+1}\", labelpad=55, fontsize=FONT_SIZE_1, rotation=0)\n",
    "sns.despine()\n",
    "fig.tight_layout()\n",
    "ax[-1, 1].legend(\n",
    "    fontsize=FONT_SIZE_2, bbox_to_anchor=(0.5, -0.8),\n",
    "    loc=\"center\", ncol=2\n",
    ")\n",
    "fig.savefig(\"../plots/misspecification_open_world.jpg\", dpi=300, bbox_inches=\"tight\")"
   ]
  }
 ],
 "metadata": {
  "kernelspec": {
   "display_name": "beef",
   "language": "python",
   "name": "python3"
  },
  "language_info": {
   "codemirror_mode": {
    "name": "ipython",
    "version": 3
   },
   "file_extension": ".py",
   "mimetype": "text/x-python",
   "name": "python",
   "nbconvert_exporter": "python",
   "pygments_lexer": "ipython3",
   "version": "3.11.9"
  }
 },
 "nbformat": 4,
 "nbformat_minor": 2
}
