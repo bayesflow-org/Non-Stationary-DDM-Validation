{
 "cells": [
  {
   "cell_type": "code",
   "execution_count": null,
   "metadata": {},
   "outputs": [],
   "source": [
    "import sys\n",
    "sys.path.append(\"../\")\n",
    "sys.path.append(\"../../../assets\")\n",
    "\n",
    "# Get rid of annoying tf warning\n",
    "import os\n",
    "os.environ['TF_CPP_MIN_LOG_LEVEL'] = '3' \n",
    "\n",
    "import numpy as np\n",
    "import matplotlib.pyplot as plt\n",
    "import seaborn as sns\n",
    "import tensorflow as tf\n",
    "import bayesflow as beef\n",
    "import pandas as pd\n",
    "\n",
    "from experiments import NonStationaryDDMExperiment\n",
    "from models import MixtureRandomWalkDDM, LevyFlightDDM, RegimeSwitchingDDM"
   ]
  },
  {
   "cell_type": "code",
   "execution_count": null,
   "metadata": {},
   "outputs": [],
   "source": [
    "# gpu setting and checking\n",
    "physical_devices = tf.config.list_physical_devices('GPU')\n",
    "tf.config.experimental.set_memory_growth(physical_devices[0], enable=True)\n",
    "print(tf.config.list_physical_devices('GPU'))"
   ]
  },
  {
   "cell_type": "markdown",
   "metadata": {},
   "source": [
    "# Constants"
   ]
  },
  {
   "cell_type": "code",
   "execution_count": null,
   "metadata": {},
   "outputs": [],
   "source": [
    "TRAIN_MIXTURE_RANDOM_WALK_DDM = False\n",
    "TRAIN_LEVY_FLIGHT_DDM = True\n",
    "TRAIN_REGIME_SWITCHING_DDM = True"
   ]
  },
  {
   "cell_type": "code",
   "execution_count": null,
   "metadata": {},
   "outputs": [],
   "source": [
    "mixture_random_walk_model = MixtureRandomWalkDDM()\n",
    "mixture_random_walk_experiment = NonStationaryDDMExperiment(\n",
    "    mixture_random_walk_model,\n",
    "    checkpoint_path=\"../checkpoints/mixture_random_walk_ddm\"\n",
    "    )\n",
    "\n",
    "levy_flight_model = LevyFlightDDM()\n",
    "levy_flight_experiment = NonStationaryDDMExperiment(\n",
    "    levy_flight_model,\n",
    "    checkpoint_path=\"../checkpoints/levy_flight_ddm\"\n",
    "    )\n",
    "\n",
    "regime_switching_model = RegimeSwitchingDDM()\n",
    "regime_switching_experiment = NonStationaryDDMExperiment(\n",
    "    regime_switching_model,\n",
    "    checkpoint_path=\"../checkpoints/regime_switching_ddm\"\n",
    "    )"
   ]
  },
  {
   "cell_type": "markdown",
   "metadata": {},
   "source": [
    "# Training"
   ]
  },
  {
   "cell_type": "code",
   "execution_count": null,
   "metadata": {},
   "outputs": [],
   "source": [
    "%%time\n",
    "if TRAIN_MIXTURE_RANDOM_WALK_DDM:\n",
    "    mixture_random_walk_history = mixture_random_walk_experiment.run(\n",
    "        epochs=75, \n",
    "        iterations_per_epoch=1000, \n",
    "        batch_size=16\n",
    "    )\n",
    "else:\n",
    "    mixture_random_walk_history = mixture_random_walk_experiment.trainer.loss_history.get_plottable()"
   ]
  },
  {
   "cell_type": "code",
   "execution_count": null,
   "metadata": {},
   "outputs": [],
   "source": [
    "f = beef.diagnostics.plot_losses(mixture_random_walk_history)"
   ]
  },
  {
   "cell_type": "code",
   "execution_count": null,
   "metadata": {},
   "outputs": [],
   "source": [
    "%%time\n",
    "if TRAIN_LEVY_FLIGHT_DDM:\n",
    "    levy_flight_history = levy_flight_experiment.run(\n",
    "        epochs=75, \n",
    "        iterations_per_epoch=1000, \n",
    "        batch_size=16\n",
    "    )\n",
    "else:\n",
    "    levy_flight_history = levy_flight_experiment.trainer.loss_history.get_plottable()"
   ]
  },
  {
   "cell_type": "code",
   "execution_count": null,
   "metadata": {},
   "outputs": [],
   "source": [
    "f = beef.diagnostics.plot_losses(levy_flight_history)"
   ]
  },
  {
   "cell_type": "code",
   "execution_count": null,
   "metadata": {},
   "outputs": [],
   "source": [
    "%%time\n",
    "if TRAIN_REGIME_SWITCHING_DDM:\n",
    "    regime_switching_history = regime_switching_experiment.run(\n",
    "        epochs=75, \n",
    "        iterations_per_epoch=1000, \n",
    "        batch_size=16\n",
    "    )\n",
    "else:\n",
    "    regime_switching_history = regime_switching_experiment.trainer.loss_history.get_plottable()"
   ]
  },
  {
   "cell_type": "code",
   "execution_count": null,
   "metadata": {},
   "outputs": [],
   "source": [
    "f = beef.diagnostics.plot_losses(regime_switching_history)"
   ]
  }
 ],
 "metadata": {
  "kernelspec": {
   "display_name": "Python 3 (ipykernel)",
   "language": "python",
   "name": "python3"
  },
  "language_info": {
   "codemirror_mode": {
    "name": "ipython",
    "version": 3
   },
   "file_extension": ".py",
   "mimetype": "text/x-python",
   "name": "python",
   "nbconvert_exporter": "python",
   "pygments_lexer": "ipython3",
   "version": "3.11.4"
  }
 },
 "nbformat": 4,
 "nbformat_minor": 2
}
