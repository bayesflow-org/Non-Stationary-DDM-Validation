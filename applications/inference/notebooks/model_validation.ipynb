{
 "cells": [
  {
   "cell_type": "code",
   "execution_count": 3,
   "metadata": {},
   "outputs": [],
   "source": [
    "import sys\n",
    "sys.path.append(\"../\")\n",
    "sys.path.append(\"../../../assets\")\n",
    "\n",
    "# Get rid of annoying tf warning\n",
    "import os\n",
    "os.environ['TF_CPP_MIN_LOG_LEVEL'] = '3' \n",
    "\n",
    "import numpy as np\n",
    "import matplotlib.pyplot as plt\n",
    "import seaborn as sns\n",
    "import tensorflow as tf\n",
    "import bayesflow as beef\n",
    "import pandas as pd\n",
    "import pickle\n",
    "\n",
    "from experiments import NonStationaryDDMExperiment\n",
    "from models import MixtureRandomWalkDDM, LevyFlightDDM, RegimeSwitchingDDM"
   ]
  },
  {
   "cell_type": "code",
   "execution_count": null,
   "metadata": {},
   "outputs": [],
   "source": [
    "# gpu setting and checking\n",
    "physical_devices = tf.config.list_physical_devices('GPU')\n",
    "tf.config.experimental.set_memory_growth(physical_devices[0], enable=True)\n",
    "print(tf.config.list_physical_devices('GPU'))"
   ]
  },
  {
   "cell_type": "code",
   "execution_count": 2,
   "metadata": {},
   "outputs": [],
   "source": [
    "FIT_MODELS = True\n",
    "\n",
    "NUM_OBS = 768\n",
    "NUM_SAMPLES = 1000\n",
    "\n",
    "LOCAL_PARAM_LABELS = ['Drift rate', 'Threshold', 'Non-decision time']\n",
    "LOCAL_PARAM_NAMES  = [r'v', r'a', r'\\tau']\n",
    "HYPER_PARAM_LABELS = ['Transition std. deviation', 'Switch Probability']\n",
    "HYPER_PARAM_NAMES  = [r'\\sigma', r'q']\n",
    "\n",
    "COMPARISON_COLOR = '#133a76'\n",
    "\n",
    "FONT_SIZE_1 = 22\n",
    "FONT_SIZE_2 = 20\n",
    "FONT_SIZE_3 = 18"
   ]
  },
  {
   "cell_type": "code",
   "execution_count": null,
   "metadata": {},
   "outputs": [],
   "source": [
    "mixture_random_walk_model = MixtureRandomWalkDDM()\n",
    "mixture_random_walk_experiment = NonStationaryDDMExperiment(\n",
    "    mixture_random_walk_model,\n",
    "    checkpoint_path=\"../checkpoints/smoothing_mixture_random_walk_ddm\"\n",
    "    )\n",
    "\n",
    "levy_flight_model = LevyFlightDDM()\n",
    "levy_flight_experiment = NonStationaryDDMExperiment(\n",
    "    levy_flight_model,\n",
    "    checkpoint_path=\"../checkpoints/smoothing_levy_flight_ddm\"\n",
    "    )\n",
    "\n",
    "regime_switching_model = RegimeSwitchingDDM()\n",
    "regime_switching_experiment = NonStationaryDDMExperiment(\n",
    "    regime_switching_model,\n",
    "    checkpoint_path=\"../checkpoints/smoothing_regime_switching_ddm\"\n",
    "    )"
   ]
  },
  {
   "cell_type": "markdown",
   "metadata": {},
   "source": [
    "# Inference"
   ]
  },
  {
   "cell_type": "code",
   "execution_count": null,
   "metadata": {},
   "outputs": [],
   "source": [
    "data = pd.read_csv('../data/data_color_discrimination.csv')\n",
    "data['rt'] = np.where(data['correct'] == 0, -data['rt'], data['rt'])"
   ]
  },
  {
   "cell_type": "code",
   "execution_count": null,
   "metadata": {},
   "outputs": [],
   "source": [
    "NUM_SUBJECTS = len(np.unique(data['id']))\n",
    "emp_data = np.zeros((NUM_SUBJECTS, NUM_OBS, 1), dtype=np.float32)\n",
    "for i in range(NUM_SUBJECTS):\n",
    "    tmp = data[data['id'] == i+1]\n",
    "    emp_data[i] = tmp['rt'].to_numpy()[:, np.newaxis]\n",
    "\n",
    "emp_data.shape"
   ]
  },
  {
   "cell_type": "code",
   "execution_count": null,
   "metadata": {},
   "outputs": [],
   "source": [
    "if FIT_MODELS:\n",
    "    mrw_local_post_samples_z = np.zeros((NUM_SUBJECTS, NUM_OBS, NUM_SAMPLES, 3))\n",
    "    mrw_hyper_post_samples_z = np.zeros((NUM_SUBJECTS, NUM_SAMPLES, 5))\n",
    "    lf_local_post_samples_z = np.zeros((NUM_SUBJECTS, NUM_OBS, NUM_SAMPLES, 3))\n",
    "    lf_hyper_post_samples_z = np.zeros((NUM_SUBJECTS, NUM_SAMPLES, 5))\n",
    "    rs_local_post_samples_z = np.zeros((NUM_SUBJECTS, NUM_OBS, NUM_SAMPLES, 3))\n",
    "    rs_hyper_post_samples_z = np.zeros((NUM_SUBJECTS, NUM_SAMPLES, 5))\n",
    "\n",
    "    with tf.device('/cpu:0'):\n",
    "        for i in range(NUM_SUBJECTS):\n",
    "            tmp_data = {'summary_conditions': emp_data[i:i+1]}\n",
    "            samples = mixture_random_walk_experiment.amortizer.sample(tmp_data, NUM_SAMPLES)\n",
    "            mrw_local_post_samples_z[i] = samples['local_samples']\n",
    "            mrw_hyper_post_samples_z[i] = samples['global_samples']\n",
    "            samples = levy_flight_experiment.amortizer.sample(tmp_data, NUM_SAMPLES)\n",
    "            lf_local_post_samples_z[i] = samples['local_samples']\n",
    "            lf_hyper_post_samples_z[i] = samples['global_samples']\n",
    "            samples = regime_switching_experiment.amortizer.sample(tmp_data, NUM_SAMPLES)\n",
    "            rs_local_post_samples_z[i] = samples['local_samples']\n",
    "            rs_hyper_post_samples_z[i] = samples['global_samples']\n",
    "\n",
    "    mrw_local_post_samples = mrw_local_post_samples_z * mixture_random_walk_model.local_prior_stds + mixture_random_walk_model.local_prior_means\n",
    "    mrw_hyper_post_samples = mrw_hyper_post_samples_z * mixture_random_walk_model.hyper_prior_std + mixture_random_walk_model.hyper_prior_mean\n",
    "    lf_local_post_samples = lf_local_post_samples_z * levy_flight_model.local_prior_stds + levy_flight_model.local_prior_means\n",
    "    lf_hyper_post_samples = lf_hyper_post_samples_z * levy_flight_model.hyper_prior_std + levy_flight_model.hyper_prior_mean\n",
    "    rs_local_post_samples = rs_local_post_samples_z * regime_switching_model.local_prior_stds + regime_switching_model.local_prior_means\n",
    "    rs_hyper_post_samples = rs_hyper_post_samples_z * regime_switching_model.hyper_prior_std + regime_switching_model.hyper_prior_mean\n",
    "\n",
    "    with open('../data/posteriors/mrw_local_post_samples.pkl', 'wb') as f:\n",
    "        pickle.dump(mrw_local_post_samples, f)\n",
    "    with open('../data/posteriors/mrw_hyper_post_samples.pkl', 'wb') as f:\n",
    "        pickle.dump(mrw_hyper_post_samples, f)\n",
    "    with open('../data/posteriors/lf_local_post_samples.pkl', 'wb') as f:\n",
    "        pickle.dump(lf_local_post_samples, f)\n",
    "    with open('../data/posteriors/lf_hyper_post_samples.pkl', 'wb') as f:\n",
    "        pickle.dump(lf_hyper_post_samples, f)\n",
    "    with open('../data/posteriors/rs_local_post_samples.pkl', 'wb') as f:\n",
    "        pickle.dump(rs_local_post_samples, f)\n",
    "    with open('../data/posteriors/rs_hyper_post_samples.pkl', 'wb') as f:\n",
    "        pickle.dump(rs_hyper_post_samples, f)\n",
    "else:\n",
    "    with open('../data/posteriors/mrw_local_post_samples.pkl', 'rb') as f:\n",
    "        mrw_local_post_samples = pickle.load(f)\n",
    "    with open('../data/posteriors/mrw_hyper_post_samples.pkl', 'rb') as f:\n",
    "        mrw_hyper_post_samples = pickle.load(f)\n",
    "    with open('../data/posteriors/lf_local_post_samples.pkl', 'rb') as f:\n",
    "        lf_local_post_samples = pickle.load(f)\n",
    "    with open('../data/posteriors/lf_hyper_post_samples.pkl', 'rb') as f:\n",
    "        lf_hyper_post_samples = pickle.load(f)\n",
    "    with open('../data/posteriors/rs_local_post_samples.pkl', 'rb') as f:\n",
    "        rs_local_post_samples = pickle.load(f)\n",
    "    with open('../data/posteriors/rs_hyper_post_samples.pkl', 'rb') as f:\n",
    "        rs_hyper_post_samples = pickle.load(f)"
   ]
  },
  {
   "cell_type": "code",
   "execution_count": null,
   "metadata": {},
   "outputs": [],
   "source": []
  }
 ],
 "metadata": {
  "kernelspec": {
   "display_name": "beef",
   "language": "python",
   "name": "python3"
  },
  "language_info": {
   "codemirror_mode": {
    "name": "ipython",
    "version": 3
   },
   "file_extension": ".py",
   "mimetype": "text/x-python",
   "name": "python",
   "nbconvert_exporter": "python",
   "pygments_lexer": "ipython3",
   "version": "3.11.4"
  },
  "orig_nbformat": 4
 },
 "nbformat": 4,
 "nbformat_minor": 2
}
