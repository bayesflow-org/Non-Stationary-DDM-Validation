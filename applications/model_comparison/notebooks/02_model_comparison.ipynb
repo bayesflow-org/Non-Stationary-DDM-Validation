{
 "cells": [
  {
   "cell_type": "code",
   "execution_count": 1,
   "metadata": {},
   "outputs": [
    {
     "name": "stderr",
     "output_type": "stream",
     "text": [
      "/home/divergence/anaconda3/envs/bfPower/lib/python3.10/site-packages/bayesflow/trainers.py:26: TqdmExperimentalWarning: Using `tqdm.autonotebook.tqdm` in notebook mode. Use `tqdm.tqdm` instead to force console mode (e.g. in jupyter console)\n",
      "  from tqdm.autonotebook import tqdm\n"
     ]
    }
   ],
   "source": [
    "# Get rid of annoying tf warning\n",
    "import os\n",
    "os.environ['TF_CPP_MIN_LOG_LEVEL'] = '3' \n",
    "\n",
    "import pickle\n",
    "import numpy as np\n",
    "np.set_printoptions(suppress=True)\n",
    "\n",
    "import bayesflow as beef\n",
    "import tensorflow as tf\n",
    "\n",
    "import sys\n",
    "sys.path.append(\"../\")\n",
    "from experiment import ModelComparisonExperiment"
   ]
  },
  {
   "cell_type": "code",
   "execution_count": 2,
   "metadata": {},
   "outputs": [
    {
     "name": "stdout",
     "output_type": "stream",
     "text": [
      "[PhysicalDevice(name='/physical_device:GPU:0', device_type='GPU')]\n"
     ]
    }
   ],
   "source": [
    "# gpu setting and checking\n",
    "physical_devices = tf.config.list_physical_devices('GPU')\n",
    "tf.config.experimental.set_memory_growth(physical_devices[0], enable=True)\n",
    "print(tf.config.list_physical_devices('GPU'))"
   ]
  },
  {
   "cell_type": "code",
   "execution_count": 3,
   "metadata": {},
   "outputs": [
    {
     "name": "stderr",
     "output_type": "stream",
     "text": [
      "INFO:root:Trainer initialization: No generative model provided. Only offline learning mode is available!\n",
      "INFO:root:Loaded loss history from ../checkpoints/model_comparison_template_dim_128/history_39.pkl.\n",
      "INFO:root:Networks loaded from ../checkpoints/model_comparison_template_dim_128/ckpt-39\n"
     ]
    }
   ],
   "source": [
    "experiment = ModelComparisonExperiment()"
   ]
  },
  {
   "cell_type": "code",
   "execution_count": 4,
   "metadata": {},
   "outputs": [],
   "source": [
    "TRAIN_NETWORK = True"
   ]
  },
  {
   "cell_type": "markdown",
   "metadata": {},
   "source": [
    "# Training"
   ]
  },
  {
   "cell_type": "code",
   "execution_count": null,
   "metadata": {},
   "outputs": [
    {
     "data": {
      "application/vnd.jupyter.widget-view+json": {
       "model_id": "02256e5864e14c5b92084b47e1d6fe04",
       "version_major": 2,
       "version_minor": 0
      },
      "text/plain": [
       "Training epoch 1:   0%|          | 0/3125 [00:00<?, ?it/s]"
      ]
     },
     "metadata": {},
     "output_type": "display_data"
    },
    {
     "data": {
      "application/vnd.jupyter.widget-view+json": {
       "model_id": "9fead41a155444f286df2a9820426e5a",
       "version_major": 2,
       "version_minor": 0
      },
      "text/plain": [
       "Training epoch 2:   0%|          | 0/3125 [00:00<?, ?it/s]"
      ]
     },
     "metadata": {},
     "output_type": "display_data"
    }
   ],
   "source": [
    "if TRAIN_NETWORK:\n",
    "    with open('../data/training_data.pkl', 'rb') as f:\n",
    "        training_data = pickle.load(f)\n",
    "    with open('../data/validation_data.pkl', 'rb') as f:\n",
    "        training_validation_data = pickle.load(f)\n",
    "        \n",
    "    history = experiment.run(\n",
    "        training_data=training_data,\n",
    "        validation_data=None\n",
    "    )"
   ]
  },
  {
   "cell_type": "code",
   "execution_count": null,
   "metadata": {
    "scrolled": true
   },
   "outputs": [],
   "source": [
    "f = beef.diagnostics.plot_losses(experiment.trainer.loss_history.get_plottable())"
   ]
  },
  {
   "cell_type": "markdown",
   "metadata": {},
   "source": [
    "# Validation"
   ]
  },
  {
   "cell_type": "code",
   "execution_count": null,
   "metadata": {},
   "outputs": [],
   "source": [
    "with open('../data/validation_data.pkl', 'rb') as f:\n",
    "    validation_data = pickle.load(f)"
   ]
  },
  {
   "cell_type": "code",
   "execution_count": null,
   "metadata": {},
   "outputs": [],
   "source": [
    "configurator = beef.configuration.DefaultModelComparisonConfigurator(4)"
   ]
  },
  {
   "cell_type": "code",
   "execution_count": null,
   "metadata": {},
   "outputs": [],
   "source": [
    "model_probs = np.zeros((40000, 4))\n",
    "chunks = np.arange(0, 10001, 200)\n",
    "for i in range(len(chunks)-1):\n",
    "    sim_1 = {'sim_data': validation_data['model_outputs'][0]['sim_data'][chunks[i]:chunks[i+1]]}\n",
    "    sim_2 = {'sim_data': validation_data['model_outputs'][1]['sim_data'][chunks[i]:chunks[i+1]]}\n",
    "    sim_3 = {'sim_data': validation_data['model_outputs'][2]['sim_data'][chunks[i]:chunks[i+1]]}\n",
    "    sim_4 = {'sim_data': validation_data['model_outputs'][3]['sim_data'][chunks[i]:chunks[i+1]]}\n",
    "    \n",
    "    tmp_validation_data = {\n",
    "        'model_outputs': [sim_1, sim_2, sim_3, sim_4],\n",
    "        'model_indices': validation_data['model_indices']\n",
    "    }\n",
    "    \n",
    "    tmp_validation_data_configured = configurator(tmp_validation_data)\n",
    "    with tf.device('/cpu:0'):\n",
    "        model_probs[(chunks[i]*4):(chunks[i+1]*4)] = experiment.amortizer.posterior_probs(\n",
    "            tmp_validation_data_configured\n",
    "        )"
   ]
  },
  {
   "cell_type": "code",
   "execution_count": null,
   "metadata": {},
   "outputs": [],
   "source": [
    "model_indices = tf.one_hot(np.tile(np.repeat([0, 1, 2, 3], 200), 50), 4)"
   ]
  },
  {
   "cell_type": "code",
   "execution_count": null,
   "metadata": {},
   "outputs": [],
   "source": [
    "cal_curves = beef.diagnostics.plot_calibration_curves(\n",
    "    true_models=model_indices,\n",
    "    pred_models=model_probs,\n",
    "    model_names=['Random walk',\n",
    "                 'Mixture random walk',\n",
    "                 'Levy flight',\n",
    "                 'Regime switching'],\n",
    "    fig_size=(14, 3)\n",
    ")"
   ]
  },
  {
   "cell_type": "code",
   "execution_count": null,
   "metadata": {},
   "outputs": [],
   "source": [
    "confusion_matrix = beef.diagnostics.plot_confusion_matrix(\n",
    "    model_indices,\n",
    "    model_probs,\n",
    "    model_names=['RW', 'MRW', 'LF', 'RS']\n",
    ")"
   ]
  }
 ],
 "metadata": {
  "kernelspec": {
   "display_name": "Python 3 (ipykernel)",
   "language": "python",
   "name": "python3"
  },
  "language_info": {
   "codemirror_mode": {
    "name": "ipython",
    "version": 3
   },
   "file_extension": ".py",
   "mimetype": "text/x-python",
   "name": "python",
   "nbconvert_exporter": "python",
   "pygments_lexer": "ipython3",
   "version": "3.10.11"
  }
 },
 "nbformat": 4,
 "nbformat_minor": 2
}
