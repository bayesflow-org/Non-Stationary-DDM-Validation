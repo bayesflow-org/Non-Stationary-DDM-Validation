{
 "cells": [
  {
   "cell_type": "code",
   "execution_count": 9,
   "metadata": {},
   "outputs": [],
   "source": [
    "import numpy as np\n",
    "import pickle\n",
    "import sys\n",
    "sys.path.append(\"../../../assets\")\n",
    "from models import RandomWalkDDM, MixtureRandomWalkDDM, LevyFlightDDM, RegimeSwitchingDDM"
   ]
  },
  {
   "cell_type": "markdown",
   "metadata": {},
   "source": [
    "# Constants"
   ]
  },
  {
   "cell_type": "code",
   "execution_count": 10,
   "metadata": {},
   "outputs": [],
   "source": [
    "NUM_TRAINING_SIMULATIONS = 25000\n",
    "NUM_VALIDATION_SIMULATIONS = 250"
   ]
  },
  {
   "cell_type": "markdown",
   "metadata": {},
   "source": [
    "# Data Simulation"
   ]
  },
  {
   "cell_type": "code",
   "execution_count": 11,
   "metadata": {},
   "outputs": [
    {
     "name": "stderr",
     "output_type": "stream",
     "text": [
      "INFO:root:Performing 2 pilot runs with the random_walk_ddm model...\n",
      "INFO:root:Shape of parameter batch after 2 pilot simulations: (batch_size = 2, 800, 3)\n",
      "INFO:root:Shape of simulation batch after 2 pilot simulations: (batch_size = 2, 800)\n",
      "INFO:root:Shape of hyper_prior_draws batch after 2 pilot simulations: (batch_size = 2, 3)\n",
      "INFO:root:Shape of local_prior_draws batch after 2 pilot simulations: (batch_size = 2, 800, 3)\n",
      "INFO:root:No shared_prior_draws provided.\n",
      "INFO:root:No optional simulation batchable context provided.\n",
      "INFO:root:No optional simulation non-batchable context provided.\n",
      "INFO:root:No optional prior batchable context provided.\n"
     ]
    },
    {
     "name": "stderr",
     "output_type": "stream",
     "text": [
      "INFO:root:No optional prior non-batchable context provided.\n",
      "INFO:root:Performing 2 pilot runs with the mixture_random_walk_ddm model...\n",
      "INFO:root:Shape of parameter batch after 2 pilot simulations: (batch_size = 2, 800, 3)\n",
      "INFO:root:Shape of simulation batch after 2 pilot simulations: (batch_size = 2, 800)\n",
      "INFO:root:Shape of hyper_prior_draws batch after 2 pilot simulations: (batch_size = 2, 5)\n",
      "INFO:root:Shape of local_prior_draws batch after 2 pilot simulations: (batch_size = 2, 800, 3)\n",
      "INFO:root:No shared_prior_draws provided.\n",
      "INFO:root:No optional simulation batchable context provided.\n",
      "INFO:root:No optional simulation non-batchable context provided.\n",
      "INFO:root:No optional prior batchable context provided.\n",
      "INFO:root:No optional prior non-batchable context provided.\n",
      "INFO:root:Performing 2 pilot runs with the levy_flight_ddm model...\n",
      "INFO:root:Shape of parameter batch after 2 pilot simulations: (batch_size = 2, 800, 3)\n",
      "INFO:root:Shape of simulation batch after 2 pilot simulations: (batch_size = 2, 800)\n",
      "INFO:root:Shape of hyper_prior_draws batch after 2 pilot simulations: (batch_size = 2, 5)\n",
      "INFO:root:Shape of local_prior_draws batch after 2 pilot simulations: (batch_size = 2, 800, 3)\n",
      "INFO:root:No shared_prior_draws provided.\n",
      "INFO:root:No optional simulation batchable context provided.\n",
      "INFO:root:No optional simulation non-batchable context provided.\n",
      "INFO:root:No optional prior batchable context provided.\n",
      "INFO:root:No optional prior non-batchable context provided.\n",
      "INFO:root:Performing 2 pilot runs with the regime_switching_ddm model...\n",
      "INFO:root:Shape of parameter batch after 2 pilot simulations: (batch_size = 2, 800, 3)\n",
      "INFO:root:Shape of simulation batch after 2 pilot simulations: (batch_size = 2, 800)\n",
      "INFO:root:Shape of hyper_prior_draws batch after 2 pilot simulations: (batch_size = 2, 3)\n",
      "INFO:root:Shape of local_prior_draws batch after 2 pilot simulations: (batch_size = 2, 800, 3)\n",
      "INFO:root:No shared_prior_draws provided.\n",
      "INFO:root:No optional simulation batchable context provided.\n",
      "INFO:root:No optional simulation non-batchable context provided.\n",
      "INFO:root:No optional prior batchable context provided.\n",
      "INFO:root:No optional prior non-batchable context provided.\n"
     ]
    }
   ],
   "source": [
    "# initialize generative models\n",
    "random_walk_ddm = RandomWalkDDM()\n",
    "mixture_random_walk_ddm = MixtureRandomWalkDDM()\n",
    "levy_flight_ddm = LevyFlightDDM()\n",
    "regime_switching_ddm = RegimeSwitchingDDM()"
   ]
  },
  {
   "cell_type": "markdown",
   "metadata": {},
   "source": [
    "## Training Data"
   ]
  },
  {
   "cell_type": "code",
   "execution_count": null,
   "metadata": {},
   "outputs": [],
   "source": []
  },
  {
   "cell_type": "code",
   "execution_count": 12,
   "metadata": {},
   "outputs": [
    {
     "name": "stdout",
     "output_type": "stream",
     "text": [
      "CPU times: user 24min 49s, sys: 8.36 s, total: 24min 57s\n",
      "Wall time: 25min 5s\n"
     ]
    }
   ],
   "source": [
    "%%time\n",
    "training_data_m1 = random_walk_ddm.generate(NUM_TRAINING_SIMULATIONS)\n",
    "training_data_m2 = mixture_random_walk_ddm.generate(NUM_TRAINING_SIMULATIONS)\n",
    "training_data_m3 = levy_flight_ddm.generate(NUM_TRAINING_SIMULATIONS)\n",
    "training_data_m4 = regime_switching_ddm.generate(NUM_TRAINING_SIMULATIONS)"
   ]
  },
  {
   "cell_type": "code",
   "execution_count": 13,
   "metadata": {},
   "outputs": [],
   "source": [
    "training_data = {\n",
    "    'model_outputs': [\n",
    "        {'sim_data': training_data_m1['sim_data'][:, :, None].astype(np.float32)},\n",
    "        {'sim_data': training_data_m2['sim_data'][:, :, None].astype(np.float32)},\n",
    "        {'sim_data': training_data_m3['sim_data'][:, :, None].astype(np.float32)},\n",
    "        {'sim_data': training_data_m4['sim_data'][:, :, None].astype(np.float32)}\n",
    "        ],\n",
    "    'model_indices': np.arange(4)\n",
    "}"
   ]
  },
  {
   "cell_type": "code",
   "execution_count": 15,
   "metadata": {},
   "outputs": [],
   "source": [
    "with open('../data/training_data.pkl', 'wb') as f:\n",
    "    pickle.dump(training_data, f)"
   ]
  },
  {
   "cell_type": "markdown",
   "metadata": {},
   "source": [
    "## Validation Data"
   ]
  },
  {
   "cell_type": "code",
   "execution_count": 16,
   "metadata": {},
   "outputs": [
    {
     "name": "stdout",
     "output_type": "stream",
     "text": [
      "CPU times: user 1min, sys: 397 ms, total: 1min 1s\n",
      "Wall time: 1min 1s\n"
     ]
    }
   ],
   "source": [
    "%%time\n",
    "validation_data_m1 = random_walk_ddm.generate(NUM_VALIDATION_SIMULATIONS)\n",
    "validation_data_m2 = mixture_random_walk_ddm.generate(NUM_VALIDATION_SIMULATIONS)\n",
    "validation_data_m3 = levy_flight_ddm.generate(NUM_VALIDATION_SIMULATIONS)\n",
    "validation_data_m4 = regime_switching_ddm.generate(NUM_VALIDATION_SIMULATIONS)"
   ]
  },
  {
   "cell_type": "code",
   "execution_count": 17,
   "metadata": {},
   "outputs": [],
   "source": [
    "validation_data = {\n",
    "    'model_outputs': [\n",
    "        {'sim_data': validation_data_m1['sim_data'][:, :, None].astype(np.float32)},\n",
    "        {'sim_data': validation_data_m2['sim_data'][:, :, None].astype(np.float32)},\n",
    "        {'sim_data': validation_data_m3['sim_data'][:, :, None].astype(np.float32)},\n",
    "        {'sim_data': validation_data_m4['sim_data'][:, :, None].astype(np.float32)}\n",
    "        ],\n",
    "    'model_indices': np.arange(4)\n",
    "}"
   ]
  },
  {
   "cell_type": "code",
   "execution_count": 18,
   "metadata": {},
   "outputs": [],
   "source": [
    "with open('../data/validation_data.pkl', 'wb') as f:\n",
    "    pickle.dump(validation_data, f)"
   ]
  }
 ],
 "metadata": {
  "kernelspec": {
   "display_name": "beef",
   "language": "python",
   "name": "python3"
  },
  "language_info": {
   "codemirror_mode": {
    "name": "ipython",
    "version": 3
   },
   "file_extension": ".py",
   "mimetype": "text/x-python",
   "name": "python",
   "nbconvert_exporter": "python",
   "pygments_lexer": "ipython3",
   "version": "3.11.4"
  },
  "orig_nbformat": 4
 },
 "nbformat": 4,
 "nbformat_minor": 2
}
