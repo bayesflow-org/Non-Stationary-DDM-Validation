{
 "cells": [
  {
   "cell_type": "code",
   "execution_count": 1,
   "metadata": {},
   "outputs": [
    {
     "name": "stderr",
     "output_type": "stream",
     "text": [
      "2023-08-04 13:17:05.175964: I tensorflow/core/platform/cpu_feature_guard.cc:182] This TensorFlow binary is optimized to use available CPU instructions in performance-critical operations.\n",
      "To enable the following instructions: AVX2 FMA, in other operations, rebuild TensorFlow with the appropriate compiler flags.\n",
      "2023-08-04 13:17:05.966100: W tensorflow/compiler/tf2tensorrt/utils/py_utils.cc:38] TF-TRT Warning: Could not find TensorRT\n",
      "/home/divergence/anaconda3/envs/bfPower/lib/python3.10/site-packages/bayesflow/trainers.py:26: TqdmExperimentalWarning: Using `tqdm.autonotebook.tqdm` in notebook mode. Use `tqdm.tqdm` instead to force console mode (e.g. in jupyter console)\n",
      "  from tqdm.autonotebook import tqdm\n"
     ]
    }
   ],
   "source": [
    "import numpy as np\n",
    "import pickle\n",
    "import sys\n",
    "sys.path.append(\"../../../assets\")\n",
    "from models import RandomWalkDDM, MixtureRandomWalkDDM, LevyFlightDDM, RegimeSwitchingDDM"
   ]
  },
  {
   "cell_type": "markdown",
   "metadata": {},
   "source": [
    "# Constants"
   ]
  },
  {
   "cell_type": "code",
   "execution_count": 2,
   "metadata": {},
   "outputs": [],
   "source": [
    "NUM_TRAINING_SIMULATIONS = 5000\n",
    "NUM_VALIDATION_SIMULATIONS = 200"
   ]
  },
  {
   "cell_type": "markdown",
   "metadata": {},
   "source": [
    "# Data Simulation"
   ]
  },
  {
   "cell_type": "code",
   "execution_count": 3,
   "metadata": {},
   "outputs": [
    {
     "name": "stderr",
     "output_type": "stream",
     "text": [
      "INFO:root:Performing 2 pilot runs with the random_walk_ddm model...\n",
      "INFO:root:Shape of parameter batch after 2 pilot simulations: (batch_size = 2, 800, 3)\n",
      "INFO:root:Shape of simulation batch after 2 pilot simulations: (batch_size = 2, 800)\n",
      "INFO:root:Shape of hyper_prior_draws batch after 2 pilot simulations: (batch_size = 2, 3)\n",
      "INFO:root:Shape of local_prior_draws batch after 2 pilot simulations: (batch_size = 2, 800, 3)\n",
      "INFO:root:No shared_prior_draws provided.\n",
      "INFO:root:No optional simulation batchable context provided.\n",
      "INFO:root:No optional simulation non-batchable context provided.\n",
      "INFO:root:No optional prior batchable context provided.\n",
      "INFO:root:No optional prior non-batchable context provided.\n",
      "INFO:root:Performing 2 pilot runs with the mixture_random_walk_ddm model...\n",
      "INFO:root:Shape of parameter batch after 2 pilot simulations: (batch_size = 2, 800, 3)\n",
      "INFO:root:Shape of simulation batch after 2 pilot simulations: (batch_size = 2, 800)\n",
      "INFO:root:Shape of hyper_prior_draws batch after 2 pilot simulations: (batch_size = 2, 5)\n",
      "INFO:root:Shape of local_prior_draws batch after 2 pilot simulations: (batch_size = 2, 800, 3)\n",
      "INFO:root:No shared_prior_draws provided.\n",
      "INFO:root:No optional simulation batchable context provided.\n",
      "INFO:root:No optional simulation non-batchable context provided.\n",
      "INFO:root:No optional prior batchable context provided.\n",
      "INFO:root:No optional prior non-batchable context provided.\n",
      "INFO:root:Performing 2 pilot runs with the levy_flight_ddm model...\n",
      "INFO:root:Shape of parameter batch after 2 pilot simulations: (batch_size = 2, 800, 3)\n",
      "INFO:root:Shape of simulation batch after 2 pilot simulations: (batch_size = 2, 800)\n",
      "INFO:root:Shape of hyper_prior_draws batch after 2 pilot simulations: (batch_size = 2, 5)\n",
      "INFO:root:Shape of local_prior_draws batch after 2 pilot simulations: (batch_size = 2, 800, 3)\n",
      "INFO:root:No shared_prior_draws provided.\n",
      "INFO:root:No optional simulation batchable context provided.\n",
      "INFO:root:No optional simulation non-batchable context provided.\n",
      "INFO:root:No optional prior batchable context provided.\n",
      "INFO:root:No optional prior non-batchable context provided.\n",
      "INFO:root:Performing 2 pilot runs with the regime_switching_ddm model...\n",
      "INFO:root:Shape of parameter batch after 2 pilot simulations: (batch_size = 2, 800, 3)\n",
      "INFO:root:Shape of simulation batch after 2 pilot simulations: (batch_size = 2, 800)\n",
      "INFO:root:Shape of hyper_prior_draws batch after 2 pilot simulations: (batch_size = 2, 3)\n",
      "INFO:root:Shape of local_prior_draws batch after 2 pilot simulations: (batch_size = 2, 800, 3)\n",
      "INFO:root:No shared_prior_draws provided.\n",
      "INFO:root:No optional simulation batchable context provided.\n",
      "INFO:root:No optional simulation non-batchable context provided.\n",
      "INFO:root:No optional prior batchable context provided.\n",
      "INFO:root:No optional prior non-batchable context provided.\n"
     ]
    }
   ],
   "source": [
    "# initialize generative models\n",
    "random_walk_ddm = RandomWalkDDM()\n",
    "mixture_random_walk_ddm = MixtureRandomWalkDDM()\n",
    "levy_flight_ddm = LevyFlightDDM()\n",
    "regime_switching_ddm = RegimeSwitchingDDM()"
   ]
  },
  {
   "cell_type": "code",
   "execution_count": 6,
   "metadata": {},
   "outputs": [
    {
     "data": {
      "text/plain": [
       "{'sim_data': array([[ 1.16211157,  1.17614336,  1.12792421,  1.17235578,  1.19918685,\n",
       "          1.20085339,  1.22842443,  1.23751711,  1.1958213 ,  1.14589916,\n",
       "          1.16666637,  1.22980245,  1.22605084,  1.17730779,  1.34112833,\n",
       "          1.17961469,  1.25196646,  1.24905137,  1.17965818,  1.20679438,\n",
       "          1.20351982,  1.27705842,  1.24587622,  1.56079626,  1.5186478 ,\n",
       "          1.60228885,  1.40570484,  1.45681397,  1.75840947,  1.61401672,\n",
       "          1.62659517,  1.63518482,  1.63964582,  1.39670603,  1.19297274,\n",
       "          1.17336196, -1.18680744,  1.22132334,  1.28351116,  1.24928119,\n",
       "          1.2616619 ,  1.24110041,  1.27251385, -1.22455598,  1.19893844,\n",
       "          1.24626378,  1.42900165,  1.20129671,  1.22714474,  1.24570309,\n",
       "          1.22272016,  1.23247817,  1.20884088, -1.21054191, -1.21422394,\n",
       "          1.23711015,  1.19857451,  1.17764361,  1.26530936,  1.1730383 ,\n",
       "          1.20211691,  1.18628848,  1.23221478,  1.24861053,  1.23149488,\n",
       "         -1.20526163,  1.22032805,  1.20309757,  1.19446197,  1.23964037,\n",
       "          1.27622361,  1.19234397,  1.20321124,  1.16016967,  1.3482688 ,\n",
       "          1.45416391,  1.37379659,  1.3800365 ,  1.33305974,  1.30021995,\n",
       "          1.43507348,  1.33571835,  1.48414015,  1.30647198,  1.21202738,\n",
       "          1.2236907 ,  1.24001213,  1.20870775,  1.20120097,  1.26885697,\n",
       "          1.05341188,  1.06675491,  1.05952131,  1.07887752,  1.13096394,\n",
       "          1.07069087,  1.16258195,  1.24606294,  1.27523467,  1.29483988,\n",
       "          1.27411152,  1.28591509,  1.2495089 ,  1.32429902,  1.25452754,\n",
       "          1.22628448,  1.27001458,  1.28229729,  1.34903227,  1.23051922,\n",
       "          1.31684674,  1.29782867,  1.38246374,  1.24596483,  1.14120247,\n",
       "          1.19258773,  1.208729  ,  1.14826336,  1.14934086,  1.1188842 ,\n",
       "          1.45974984,  1.26039828,  1.12495592,  1.17819499,  1.25603862,\n",
       "          1.35399372,  1.28310489,  1.16726344,  1.49312949,  2.84179998,\n",
       "          1.45284713,  1.78521108,  2.97163281,  1.33209143,  1.46999195,\n",
       "          1.51420343,  1.93162765,  2.03375375,  1.19307095,  1.1480476 ,\n",
       "          1.29434106,  1.64576227,  1.40360955,  1.46861221,  2.04463858,\n",
       "          1.1772577 ,  1.27014985,  1.26757189,  1.39918092,  1.3544306 ,\n",
       "          1.20138824,  1.40339228,  1.19226638,  1.16389172,  1.44553112,\n",
       "          1.45483826,  2.07670819,  1.6078123 ,  1.20195449,  1.2038145 ,\n",
       "          1.10137638,  0.98474578,  1.18387293,  1.37330791,  1.32791662,\n",
       "          6.72252906,  3.19126734, -3.4710222 ,  3.26055069,  2.07724176,\n",
       "          6.24624865,  1.09597224,  1.28517109,  0.96563069,  0.97082164,\n",
       "          1.06983666,  1.14141211,  1.04893729,  1.02460355,  0.99267281,\n",
       "          1.03435799,  0.95365467,  0.98587903,  0.98977144,  0.97875227,\n",
       "          0.96810678,  0.94608063,  1.04418591,  1.81148152,  1.76937559,\n",
       "          1.22745373,  1.1139491 ,  1.00296115,  1.4980203 ,  1.159054  ,\n",
       "          1.51508046,  1.31682978,  1.44810413,  2.67942396,  1.47085854,\n",
       "          1.54843066,  1.27333819,  1.34821349,  1.23526144,  1.89847097,\n",
       "          1.18715949,  1.42517143,  1.1450368 ,  1.68220237,  2.5917483 ,\n",
       "          1.34870792,  1.24416445,  1.34899219,  1.18056776,  1.15182768,\n",
       "          1.76052338,  1.31668784,  1.37414577,  1.97519863, -1.56832624,\n",
       "          2.21413939, -2.05220342,  1.7386714 , -1.74480447,  1.3315144 ,\n",
       "          1.65382265,  1.46930749,  1.88325762,  2.76054265,  1.39486701,\n",
       "         -1.76188777,  1.1590472 ,  1.54540118,  1.34313436,  1.54995028,\n",
       "          1.35741977,  1.54040336,  1.60513234,  1.25788947,  1.18591891,\n",
       "          1.22329908,  1.32703131,  1.57909687,  1.42356659,  1.08461584,\n",
       "          1.19861125,  1.03378355,  1.05225442,  1.0529997 ,  1.1459543 ,\n",
       "          1.09654194,  1.06496309,  0.99383075, -0.96240346,  0.96142654,\n",
       "          0.98036312, -0.97602877,  1.02257711, -0.99978536,  0.98860163,\n",
       "          0.96910013,  0.98747413, -0.99741662, -0.99501043, -1.06041633,\n",
       "          1.0210631 ,  1.03425633,  1.01693693,  1.01961291, -1.02121854,\n",
       "          1.04670697,  1.02473625,  1.02679147,  1.03384951,  1.1416667 ,\n",
       "          1.16654888,  1.21551026,  1.19356907,  1.18421544,  1.25745533,\n",
       "          1.82150611,  1.51916747,  1.40809349,  1.39730318,  1.91435073,\n",
       "          1.69439604,  1.28614043,  2.55392686,  1.83805884,  1.23501791,\n",
       "          1.25883462,  1.23188348,  1.43407243,  1.92121274,  1.43436508,\n",
       "          1.25989343,  1.50897575,  1.40276356,  1.77144157,  1.40169683,\n",
       "          1.95394675,  1.29873065,  1.72102946,  1.53602074,  1.36695968,\n",
       "          1.35959019,  1.78983365,  1.45541327,  1.40522594,  1.41838031,\n",
       "          1.47846601,  2.47144454,  2.06925707,  1.69266312,  1.18018021,\n",
       "          1.56785609,  2.10352378,  1.1563087 ,  1.19870035,  1.08814929,\n",
       "          1.0923486 ,  1.26369651,  1.13507172,  1.10997513,  1.12355875,\n",
       "          1.08953545,  1.27676367,  1.17715663,  2.09718344,  1.35261686,\n",
       "          1.31939919,  1.47647241,  2.05661149,  1.56529122,  1.48174619,\n",
       "          1.9434698 ,  1.71527509,  1.55562299,  1.51560508,  1.88244145,\n",
       "          2.45163974,  1.35938125,  2.43509053,  1.94681019,  1.39322113,\n",
       "          1.42638511,  4.13755614,  1.17866964,  1.15654488,  1.22828452,\n",
       "          1.21469319,  1.18523346,  1.23819908,  1.17316813,  1.14023532,\n",
       "          1.23775317,  1.4276546 ,  1.34423741,  1.19021754,  1.21291649,\n",
       "          1.29432484,  1.22289149,  1.45629188,  2.23620328,  1.90235017,\n",
       "          2.08297589,  2.60748572,  1.80696108,  2.39244875,  2.33130787,\n",
       "          2.41648298,  2.50882839,  2.45811693,  2.69980925,  2.73980382,\n",
       "          2.91741193,  1.96816914,  3.77962019,  2.12890299,  3.17903673,\n",
       "          1.83798031,  2.11897861,  2.58129562,  1.79412237,  1.73925499,\n",
       "          3.1597834 ,  2.10290181,  2.06091078,  1.50429878,  2.92898404,\n",
       "          2.06616053,  2.61375642,  4.13415631, -5.69703477,  2.84055209,\n",
       "          6.9651141 ,  1.88298442,  2.23163513,  4.11239288,  2.21029958,\n",
       "          1.16879553,  1.08158046,  1.08680298,  1.10257029,  1.1362292 ,\n",
       "          1.0994525 ,  1.19057268,  1.13715566,  1.05024073,  1.18409142,\n",
       "          1.29107296,  1.1301026 ,  1.22952273,  1.32753855,  1.18936687,\n",
       "          1.28112719,  1.29862267,  1.19990654,  1.02988047,  1.0778858 ,\n",
       "          1.11128725,  0.98321119,  1.00378668,  1.04842206,  1.09414202,\n",
       "          1.35195787,  1.37878955,  1.0898622 ,  1.02087857,  1.09364555,\n",
       "          1.05326507,  1.07473304,  1.11179521,  1.07396666, -1.08774704,\n",
       "          1.24180965,  1.04448272,  1.13205956,  1.19341576,  1.10406371,\n",
       "          1.23306238,  1.72071922,  2.17825755,  1.92230667,  1.71464898,\n",
       "          2.05035127,  2.51945661,  2.48137142,  2.84781325,  1.35153535,\n",
       "          1.37901289,  1.15868307,  1.12142573,  1.35078397,  1.11738271,\n",
       "          1.17766781,  1.13980345,  1.07268242,  1.10331923,  1.17899145,\n",
       "          1.05967388,  1.15046357,  2.27297329,  1.81565581,  2.0835922 ,\n",
       "          2.69653615,  3.63068158,  2.1719445 ,  2.65495669,  1.28453273,\n",
       "          1.22362207,  1.25856939,  1.28576499,  1.30963745,  1.64777503,\n",
       "          1.28849524,  1.25685622,  1.20801816,  1.40340485,  1.18295049,\n",
       "          1.12450944,  1.2165193 ,  1.147046  ,  1.13689298,  1.1140698 ,\n",
       "          1.14472938,  1.07978591,  1.27658159,  1.23484403,  1.22003923,\n",
       "          1.12665454,  1.37311426,  1.18510629,  1.38388305,  1.22727639,\n",
       "          1.1290823 ,  1.10012719,  1.24969688,  1.34163026,  1.15545127,\n",
       "          1.2411909 ,  1.34891074,  1.29634933,  1.30626021,  1.17152059,\n",
       "          1.22735549,  1.22284212,  1.13661159,  1.3028864 ,  1.30978358,\n",
       "          1.14177169,  1.32000284,  1.23629103,  1.30344503,  1.22578116,\n",
       "          1.17703377,  1.1705219 ,  1.23454531,  1.19085232,  1.39413448,\n",
       "          1.17209368,  1.35713894,  1.24669153,  1.22174297,  1.27669583,\n",
       "          1.12640464,  1.29118452,  1.31383932,  1.27346145,  1.8408779 ,\n",
       "          1.56223447,  2.16659148,  2.51214076,  1.52102564,  2.30375596,\n",
       "          1.80229307,  2.02969051,  1.39849578,  1.35562731,  1.19258059,\n",
       "          1.33292189,  1.36644864,  1.47678229,  1.85579613,  1.16445784,\n",
       "          1.10973479,  1.62236901,  1.35781111, -1.27162264,  1.49476267,\n",
       "          2.50177678,  1.73901767,  8.33850147,  2.23274599,  1.35364846,\n",
       "          1.18318501,  1.21639163,  1.25498574,  1.2595953 ,  9.61228518,\n",
       "         10.11308961,  2.35750414,  1.7395979 ,  3.18991326,  2.6707131 ,\n",
       "         -5.4711298 ,  3.99905759,  2.66934587,  3.58926201,  5.42129172,\n",
       "          7.37339767,  2.215583  ,  2.65570698,  2.06140227,  2.79290799,\n",
       "          2.30099257,  1.45047564,  1.46154175,  1.32207878,  1.31146779,\n",
       "          1.36221265,  1.37357032,  1.21564283,  1.16688587,  1.52809619,\n",
       "          1.4848563 ,  1.6600064 ,  1.66064182,  1.46618516,  1.61719699,\n",
       "          1.54276254,  1.63154121,  1.40493163,  1.52002613,  1.57732859,\n",
       "          1.13021705,  1.21327296,  1.2730287 ,  1.27011447,  1.17105415,\n",
       "          1.31625506,  1.3768016 ,  1.17205492,  1.2390677 ,  2.27248961,\n",
       "          1.52949951,  1.96834487,  1.41657034,  1.54833483,  1.78698056,\n",
       "          1.05382292,  1.13426293,  1.0989919 ,  1.13825307,  1.13098928,\n",
       "          1.05813741,  1.09719548,  1.09932004,  1.12413103,  1.12265582,\n",
       "          1.15462977,  1.14428509,  1.16771938,  1.17638986,  1.2369453 ,\n",
       "          1.12014905,  1.14427915,  1.12674562,  1.19536154,  1.18738189,\n",
       "          0.98224679,  0.94925179,  1.07982295,  0.98322462,  0.94410232,\n",
       "          0.93790222,  0.91893912,  0.92443365,  0.92276226,  0.93373324,\n",
       "          1.04972985,  1.03242104,  1.0014916 ,  1.02028082,  1.11638835,\n",
       "          1.06928208,  0.95613387,  1.05677966,  1.05141432,  1.08671384,\n",
       "          1.09344772,  1.0350238 ,  1.07508419,  1.03199181,  1.62803317,\n",
       "          1.27490197,  1.43310135,  1.28833685,  1.28049079,  1.5256239 ,\n",
       "          1.17654912,  1.35223794,  1.21658707,  1.14574013,  1.35705748,\n",
       "          1.36756394,  1.22996371,  1.30311717,  1.03486682,  1.42197389,\n",
       "          1.27493501,  1.5001867 ,  1.41305721,  1.09009523,  1.09461769,\n",
       "          1.27612994,  1.48904291,  1.08071234,  1.00073418,  1.26050289,\n",
       "          1.0648408 ,  1.08552012,  1.0059957 ,  1.08730222,  1.25558902,\n",
       "          1.18753589,  1.06522935,  1.12002944,  1.22451451,  1.01016612,\n",
       "          1.15623049,  0.97508941,  1.08010491,  1.22530373,  1.20890416,\n",
       "          0.92355511,  1.28111555,  1.10895984,  1.06913809,  1.0865043 ,\n",
       "          1.03104095,  1.18790852,  0.96871636,  0.97926856,  1.12251658,\n",
       "          0.94897088,  1.03263741,  1.24477105,  2.54159205,  4.03023462,\n",
       "          2.70107959,  1.96390411,  2.48672042,  2.80606109,  1.55413668,\n",
       "          2.1614698 ,  1.30804197,  2.12161663,  2.66277525,  1.10818653,\n",
       "          1.11976513,  1.04619285,  0.98298585,  1.06027264,  1.11490373,\n",
       "          1.25215531,  1.27215726,  1.18123294,  0.99041644,  1.0986491 ,\n",
       "          1.19445258,  1.03081253,  1.00540559,  1.07483689,  1.12711837,\n",
       "          1.07532605,  0.95124712,  1.1176133 ,  1.10461667,  1.02309807,\n",
       "          1.01649086,  1.12031746,  1.06798975,  1.02599017,  1.08142726,\n",
       "          1.18151938,  0.92402916,  1.06399885,  1.01450662,  1.02494799,\n",
       "          0.94014126,  0.95891343,  1.08991866,  1.00961334,  1.02768713,\n",
       "          0.99199394,  1.04024825,  0.9867774 ,  0.92274987,  1.0079065 ,\n",
       "          0.9837163 ,  1.21976399,  1.31284112,  1.05448701,  1.13546   ,\n",
       "          1.02219463,  1.07016251,  1.12599121,  1.10091546,  0.97693286,\n",
       "          1.05885866,  1.01787616,  0.96324578,  0.88764935,  1.01343827,\n",
       "          0.8584708 ,  0.81259878,  0.85401078,  0.85969149,  0.82724183,\n",
       "          0.81895917,  0.74802084,  0.73353719,  0.76425223,  0.72168126,\n",
       "          0.74770741,  0.72877658,  0.73122684,  0.69022184, -0.75438743,\n",
       "          0.75337449,  0.69266651,  0.70436401, -0.82569265, -0.74682618,\n",
       "          0.72820159, -0.68239252, -0.70717579, -0.766364  ,  0.82200189]]),\n",
       " 'hyper_prior_draws': array([[0.10549263, 0.08198873, 0.0097962 ]]),\n",
       " 'local_prior_draws': array([[[5.66839569, 1.09987541, 1.06611157],\n",
       "         [5.66839569, 1.09987541, 1.06914336],\n",
       "         [5.66839569, 1.09987541, 1.06892421],\n",
       "         ...,\n",
       "         [0.59107749, 0.65071183, 0.66517579],\n",
       "         [0.59107749, 0.65071183, 0.662364  ],\n",
       "         [0.59107749, 0.65071183, 0.66200189]]]),\n",
       " 'shared_prior_draws': None,\n",
       " 'sim_batchable_context': None,\n",
       " 'sim_non_batchable_context': None,\n",
       " 'prior_batchable_context': None,\n",
       " 'prior_non_batchable_context': None}"
      ]
     },
     "execution_count": 6,
     "metadata": {},
     "output_type": "execute_result"
    }
   ],
   "source": [
    "random_walk_ddm.generate(1)\n",
    "mixture_random_walk_ddm.generate(1)\n",
    "levy_flight_ddm.generate(1)\n",
    "regime_switching_ddm.generate(1)"
   ]
  },
  {
   "cell_type": "markdown",
   "metadata": {},
   "source": [
    "## Training Data"
   ]
  },
  {
   "cell_type": "code",
   "execution_count": 7,
   "metadata": {},
   "outputs": [
    {
     "name": "stdout",
     "output_type": "stream",
     "text": [
      "CPU times: user 9min 21s, sys: 283 ms, total: 9min 21s\n",
      "Wall time: 9min 21s\n"
     ]
    }
   ],
   "source": [
    "%%time\n",
    "training_data_m1 = random_walk_ddm.generate(NUM_TRAINING_SIMULATIONS)\n",
    "training_data_m2 = mixture_random_walk_ddm.generate(NUM_TRAINING_SIMULATIONS)\n",
    "training_data_m3 = levy_flight_ddm.generate(NUM_TRAINING_SIMULATIONS)\n",
    "training_data_m4 = regime_switching_ddm.generate(NUM_TRAINING_SIMULATIONS)"
   ]
  },
  {
   "cell_type": "code",
   "execution_count": 8,
   "metadata": {},
   "outputs": [],
   "source": [
    "training_data = {\n",
    "    'model_outputs': [\n",
    "        {'sim_data': training_data_m1['sim_data'][:, :, None].astype(np.float32)},\n",
    "        {'sim_data': training_data_m2['sim_data'][:, :, None].astype(np.float32)},\n",
    "        {'sim_data': training_data_m3['sim_data'][:, :, None].astype(np.float32)},\n",
    "        {'sim_data': training_data_m4['sim_data'][:, :, None].astype(np.float32)}\n",
    "        ],\n",
    "    'model_indices': np.arange(4)\n",
    "}"
   ]
  },
  {
   "cell_type": "code",
   "execution_count": 9,
   "metadata": {},
   "outputs": [],
   "source": [
    "with open('../data/training_data.pkl', 'wb') as f:\n",
    "    pickle.dump(training_data, f)"
   ]
  },
  {
   "cell_type": "markdown",
   "metadata": {},
   "source": [
    "## Validation Data"
   ]
  },
  {
   "cell_type": "code",
   "execution_count": 10,
   "metadata": {},
   "outputs": [
    {
     "name": "stdout",
     "output_type": "stream",
     "text": [
      "CPU times: user 22.9 s, sys: 4.02 ms, total: 22.9 s\n",
      "Wall time: 22.9 s\n"
     ]
    }
   ],
   "source": [
    "%%time\n",
    "validation_data_m1 = random_walk_ddm.generate(NUM_VALIDATION_SIMULATIONS)\n",
    "validation_data_m2 = mixture_random_walk_ddm.generate(NUM_VALIDATION_SIMULATIONS)\n",
    "validation_data_m3 = levy_flight_ddm.generate(NUM_VALIDATION_SIMULATIONS)\n",
    "validation_data_m4 = regime_switching_ddm.generate(NUM_VALIDATION_SIMULATIONS)"
   ]
  },
  {
   "cell_type": "code",
   "execution_count": 11,
   "metadata": {},
   "outputs": [],
   "source": [
    "validation_data = {\n",
    "    'model_outputs': [\n",
    "        {'sim_data': validation_data_m1['sim_data'][:, :, None].astype(np.float32)},\n",
    "        {'sim_data': validation_data_m2['sim_data'][:, :, None].astype(np.float32)},\n",
    "        {'sim_data': validation_data_m3['sim_data'][:, :, None].astype(np.float32)},\n",
    "        {'sim_data': validation_data_m4['sim_data'][:, :, None].astype(np.float32)}\n",
    "        ],\n",
    "    'model_indices': np.arange(4)\n",
    "}"
   ]
  },
  {
   "cell_type": "code",
   "execution_count": 12,
   "metadata": {},
   "outputs": [],
   "source": [
    "with open('../data/validation_data.pkl', 'wb') as f:\n",
    "    pickle.dump(validation_data, f)"
   ]
  },
  {
   "cell_type": "code",
   "execution_count": null,
   "metadata": {},
   "outputs": [],
   "source": []
  }
 ],
 "metadata": {
  "kernelspec": {
   "display_name": "Python 3 (ipykernel)",
   "language": "python",
   "name": "python3"
  },
  "language_info": {
   "codemirror_mode": {
    "name": "ipython",
    "version": 3
   },
   "file_extension": ".py",
   "mimetype": "text/x-python",
   "name": "python",
   "nbconvert_exporter": "python",
   "pygments_lexer": "ipython3",
   "version": "3.10.11"
  }
 },
 "nbformat": 4,
 "nbformat_minor": 2
}
