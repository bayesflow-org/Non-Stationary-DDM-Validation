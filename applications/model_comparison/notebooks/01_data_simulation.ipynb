{
 "cells": [
  {
   "cell_type": "code",
   "execution_count": null,
   "metadata": {},
   "outputs": [],
   "source": [
    "import numpy as np\n",
    "import pickle\n",
    "import sys\n",
    "sys.path.append(\"../../../assets\")\n",
    "from models import RandomWalkDDM, MixtureRandomWalkDDM, LevyFlightDDM, RegimeSwitchingDDM"
   ]
  },
  {
   "cell_type": "markdown",
   "metadata": {},
   "source": [
    "# Constants"
   ]
  },
  {
   "cell_type": "code",
   "execution_count": null,
   "metadata": {},
   "outputs": [],
   "source": [
    "NUM_TRAINING_SIMULATIONS = 5000\n",
    "NUM_VALIDATION_SIMULATIONS = 200"
   ]
  },
  {
   "cell_type": "markdown",
   "metadata": {},
   "source": [
    "# Data Simulation"
   ]
  },
  {
   "cell_type": "code",
   "execution_count": null,
   "metadata": {},
   "outputs": [],
   "source": [
    "# initialize generative models\n",
    "random_walk_ddm = RandomWalkDDM()\n",
    "mixture_random_walk_ddm = MixtureRandomWalkDDM()\n",
    "levy_flight_ddm = LevyFlightDDM()\n",
    "regime_switching_ddm = RegimeSwitchingDDM()"
   ]
  },
  {
   "cell_type": "markdown",
   "metadata": {},
   "source": [
    "## Training Data"
   ]
  },
  {
   "cell_type": "code",
   "execution_count": null,
   "metadata": {},
   "outputs": [],
   "source": [
    "%%time\n",
    "training_data_m1 = random_walk_ddm.generate(NUM_TRAINING_SIMULATIONS)\n",
    "training_data_m2 = mixture_random_walk_ddm.generate(NUM_TRAINING_SIMULATIONS)\n",
    "training_data_m3 = levy_flight_ddm.generate(NUM_TRAINING_SIMULATIONS)\n",
    "training_data_m4 = regime_switching_ddm.generate(NUM_TRAINING_SIMULATIONS)"
   ]
  },
  {
   "cell_type": "code",
   "execution_count": null,
   "metadata": {},
   "outputs": [],
   "source": [
    "training_data = {\n",
    "    'model_outputs': [\n",
    "        {'sim_data': training_data_m1['sim_data'][:, :, None].astype(np.float32)},\n",
    "        {'sim_data': training_data_m2['sim_data'][:, :, None].astype(np.float32)},\n",
    "        {'sim_data': training_data_m3['sim_data'][:, :, None].astype(np.float32)},\n",
    "        {'sim_data': training_data_m4['sim_data'][:, :, None].astype(np.float32)}\n",
    "        ],\n",
    "    'model_indices': np.arange(4)\n",
    "}"
   ]
  },
  {
   "cell_type": "code",
   "execution_count": null,
   "metadata": {},
   "outputs": [],
   "source": [
    "with open('../data/training_data.pkl', 'wb') as f:\n",
    "    pickle.dump(training_data, f)"
   ]
  },
  {
   "cell_type": "markdown",
   "metadata": {},
   "source": [
    "## Validation Data"
   ]
  },
  {
   "cell_type": "code",
   "execution_count": null,
   "metadata": {},
   "outputs": [],
   "source": [
    "%%time\n",
    "validation_data_m1 = random_walk_ddm.generate(NUM_VALIDATION_SIMULATIONS)\n",
    "validation_data_m2 = mixture_random_walk_ddm.generate(NUM_VALIDATION_SIMULATIONS)\n",
    "validation_data_m3 = levy_flight_ddm.generate(NUM_VALIDATION_SIMULATIONS)\n",
    "validation_data_m4 = regime_switching_ddm.generate(NUM_VALIDATION_SIMULATIONS)"
   ]
  },
  {
   "cell_type": "code",
   "execution_count": null,
   "metadata": {},
   "outputs": [],
   "source": [
    "validation_data = {\n",
    "    'model_outputs': [\n",
    "        {'sim_data': validation_data_m1['sim_data'][:, :, None].astype(np.float32)},\n",
    "        {'sim_data': validation_data_m2['sim_data'][:, :, None].astype(np.float32)},\n",
    "        {'sim_data': validation_data_m3['sim_data'][:, :, None].astype(np.float32)},\n",
    "        {'sim_data': validation_data_m4['sim_data'][:, :, None].astype(np.float32)}\n",
    "        ],\n",
    "    'model_indices': np.arange(4)\n",
    "}"
   ]
  },
  {
   "cell_type": "code",
   "execution_count": null,
   "metadata": {},
   "outputs": [],
   "source": [
    "with open('../data/validation_data.pkl', 'wb') as f:\n",
    "    pickle.dump(validation_data, f)"
   ]
  }
 ],
 "metadata": {
  "kernelspec": {
   "display_name": "Python 3 (ipykernel)",
   "language": "python",
   "name": "python3"
  },
  "language_info": {
   "codemirror_mode": {
    "name": "ipython",
    "version": 3
   },
   "file_extension": ".py",
   "mimetype": "text/x-python",
   "name": "python",
   "nbconvert_exporter": "python",
   "pygments_lexer": "ipython3",
   "version": "3.11.4"
  }
 },
 "nbformat": 4,
 "nbformat_minor": 2
}
