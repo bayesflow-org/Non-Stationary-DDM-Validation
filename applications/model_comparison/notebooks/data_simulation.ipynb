{
 "cells": [
  {
   "cell_type": "code",
   "execution_count": 3,
   "metadata": {},
   "outputs": [],
   "source": [
    "import numpy as np\n",
    "import pickle\n",
    "import sys\n",
    "sys.path.append(\"../../../assets\")\n",
    "from models import RandomWalkDDM, MixtureRandomWalkDDM, LevyFlightDDM, RegimeSwitchingDDM"
   ]
  },
  {
   "cell_type": "markdown",
   "metadata": {},
   "source": [
    "# Constants"
   ]
  },
  {
   "cell_type": "code",
   "execution_count": 4,
   "metadata": {},
   "outputs": [],
   "source": [
    "NUM_TRAINING_SIMULATIONS = 25000\n",
    "NUM_TRAINING_VALIDATION_SIMULATIONS = 15\n",
    "NUM_VALIDATION_SIMULATIONS = 10000"
   ]
  },
  {
   "cell_type": "markdown",
   "metadata": {},
   "source": [
    "# Data Simulation"
   ]
  },
  {
   "cell_type": "code",
   "execution_count": 5,
   "metadata": {},
   "outputs": [
    {
     "ename": "AttributeError",
     "evalue": "module 'bayesflow.simulation' has no attribute 'TwoLevelPrior'",
     "output_type": "error",
     "traceback": [
      "\u001b[0;31m---------------------------------------------------------------------------\u001b[0m",
      "\u001b[0;31mAttributeError\u001b[0m                            Traceback (most recent call last)",
      "Cell \u001b[0;32mIn[5], line 2\u001b[0m\n\u001b[1;32m      1\u001b[0m \u001b[38;5;66;03m# initialize generative models\u001b[39;00m\n\u001b[0;32m----> 2\u001b[0m random_walk_ddm \u001b[38;5;241m=\u001b[39m \u001b[43mRandomWalkDDM\u001b[49m\u001b[43m(\u001b[49m\u001b[43m)\u001b[49m\n\u001b[1;32m      3\u001b[0m mixture_random_walk_ddm \u001b[38;5;241m=\u001b[39m MixtureRandomWalkDDM()\n\u001b[1;32m      4\u001b[0m levy_flight_ddm \u001b[38;5;241m=\u001b[39m LevyFlightDDM()\n",
      "File \u001b[0;32m~/Documents/GitHub/Non-Stationary-DDM-Validation/applications/model_comparison/notebooks/../../../assets/models.py:103\u001b[0m, in \u001b[0;36mRandomWalkDDM.__init__\u001b[0;34m(self, num_steps, rng)\u001b[0m\n\u001b[1;32m    101\u001b[0m \u001b[38;5;28mself\u001b[39m\u001b[38;5;241m.\u001b[39m_rng \u001b[38;5;241m=\u001b[39m rng\n\u001b[1;32m    102\u001b[0m \u001b[38;5;66;03m# Create prior wrapper\u001b[39;00m\n\u001b[0;32m--> 103\u001b[0m \u001b[38;5;28mself\u001b[39m\u001b[38;5;241m.\u001b[39mprior \u001b[38;5;241m=\u001b[39m \u001b[43mbf\u001b[49m\u001b[38;5;241;43m.\u001b[39;49m\u001b[43msimulation\u001b[49m\u001b[38;5;241;43m.\u001b[39;49m\u001b[43mTwoLevelPrior\u001b[49m(\n\u001b[1;32m    104\u001b[0m     hyper_prior_fun\u001b[38;5;241m=\u001b[39msample_random_walk_hyper,\n\u001b[1;32m    105\u001b[0m     local_prior_fun\u001b[38;5;241m=\u001b[39mpartial(sample_random_walk, num_steps\u001b[38;5;241m=\u001b[39mnum_steps, rng\u001b[38;5;241m=\u001b[39m\u001b[38;5;28mself\u001b[39m\u001b[38;5;241m.\u001b[39m_rng),\n\u001b[1;32m    106\u001b[0m )\n\u001b[1;32m    107\u001b[0m \u001b[38;5;66;03m# Create simulator wrapper\u001b[39;00m\n\u001b[1;32m    108\u001b[0m \u001b[38;5;28mself\u001b[39m\u001b[38;5;241m.\u001b[39mlikelihood \u001b[38;5;241m=\u001b[39m bf\u001b[38;5;241m.\u001b[39msimulation\u001b[38;5;241m.\u001b[39mSimulator(\n\u001b[1;32m    109\u001b[0m     simulator_fun\u001b[38;5;241m=\u001b[39msample_non_stationary_diffusion_process,\n\u001b[1;32m    110\u001b[0m )\n",
      "\u001b[0;31mAttributeError\u001b[0m: module 'bayesflow.simulation' has no attribute 'TwoLevelPrior'"
     ]
    }
   ],
   "source": [
    "# initialize generative models\n",
    "random_walk_ddm = RandomWalkDDM()\n",
    "mixture_random_walk_ddm = MixtureRandomWalkDDM()\n",
    "levy_flight_ddm = LevyFlightDDM()\n",
    "regime_switching_ddm = RegimeSwitchingDDM()"
   ]
  },
  {
   "cell_type": "markdown",
   "metadata": {},
   "source": [
    "## Training Data"
   ]
  },
  {
   "cell_type": "code",
   "execution_count": 4,
   "metadata": {},
   "outputs": [
    {
     "name": "stdout",
     "output_type": "stream",
     "text": [
      "CPU times: user 24min 4s, sys: 6.91 s, total: 24min 11s\n",
      "Wall time: 24min 14s\n"
     ]
    }
   ],
   "source": [
    "%%time\n",
    "training_data_m1 = random_walk_ddm.generate(NUM_TRAINING_SIMULATIONS)\n",
    "training_data_m2 = mixture_random_walk_ddm.generate(NUM_TRAINING_SIMULATIONS)\n",
    "training_data_m3 = levy_flight_ddm.generate(NUM_TRAINING_SIMULATIONS)\n",
    "training_data_m4 = regime_switching_ddm.generate(NUM_TRAINING_SIMULATIONS)"
   ]
  },
  {
   "cell_type": "code",
   "execution_count": 5,
   "metadata": {},
   "outputs": [],
   "source": [
    "training_data = {\n",
    "    'model_outputs': [\n",
    "        {'sim_data': training_data_m1['sim_data'][:, :, None].astype(np.float32)},\n",
    "        {'sim_data': training_data_m2['sim_data'][:, :, None].astype(np.float32)},\n",
    "        {'sim_data': training_data_m3['sim_data'][:, :, None].astype(np.float32)},\n",
    "        {'sim_data': training_data_m4['sim_data'][:, :, None].astype(np.float32)}\n",
    "        ],\n",
    "    'model_indices': np.arange(4)\n",
    "}"
   ]
  },
  {
   "cell_type": "code",
   "execution_count": 6,
   "metadata": {},
   "outputs": [],
   "source": [
    "with open('../data/training_data.pkl', 'wb') as f:\n",
    "    pickle.dump(training_data, f)"
   ]
  },
  {
   "cell_type": "markdown",
   "metadata": {},
   "source": [
    "## Training Validation Data"
   ]
  },
  {
   "cell_type": "code",
   "execution_count": 4,
   "metadata": {},
   "outputs": [
    {
     "name": "stdout",
     "output_type": "stream",
     "text": [
      "CPU times: user 5.97 s, sys: 56.4 ms, total: 6.02 s\n",
      "Wall time: 6.06 s\n"
     ]
    }
   ],
   "source": [
    "%%time\n",
    "training_validation_data_m1 = random_walk_ddm.generate(NUM_TRAINING_VALIDATION_SIMULATIONS)\n",
    "training_validation_data_m2 = mixture_random_walk_ddm.generate(NUM_TRAINING_VALIDATION_SIMULATIONS)\n",
    "training_validation_data_m3 = levy_flight_ddm.generate(NUM_TRAINING_VALIDATION_SIMULATIONS)\n",
    "training_validation_data_m4 = regime_switching_ddm.generate(NUM_TRAINING_VALIDATION_SIMULATIONS)"
   ]
  },
  {
   "cell_type": "code",
   "execution_count": 5,
   "metadata": {},
   "outputs": [],
   "source": [
    "training_validation_data = {\n",
    "    'model_outputs': [\n",
    "        {'sim_data': training_validation_data_m1['sim_data'][:, :, None].astype(np.float32)},\n",
    "        {'sim_data': training_validation_data_m2['sim_data'][:, :, None].astype(np.float32)},\n",
    "        {'sim_data': training_validation_data_m3['sim_data'][:, :, None].astype(np.float32)},\n",
    "        {'sim_data': training_validation_data_m4['sim_data'][:, :, None].astype(np.float32)}\n",
    "        ],\n",
    "    'model_indices': np.arange(4)\n",
    "}"
   ]
  },
  {
   "cell_type": "code",
   "execution_count": 6,
   "metadata": {},
   "outputs": [],
   "source": [
    "with open('../data/training_validation_data.pkl', 'wb') as f:\n",
    "    pickle.dump(training_validation_data, f)"
   ]
  },
  {
   "cell_type": "markdown",
   "metadata": {},
   "source": [
    "## Validation Data"
   ]
  },
  {
   "cell_type": "code",
   "execution_count": 14,
   "metadata": {},
   "outputs": [
    {
     "name": "stdout",
     "output_type": "stream",
     "text": [
      "CPU times: user 9min 32s, sys: 2.63 s, total: 9min 35s\n",
      "Wall time: 9min 36s\n"
     ]
    }
   ],
   "source": [
    "%%time\n",
    "validation_data_m1 = random_walk_ddm.generate(NUM_VALIDATION_SIMULATIONS)\n",
    "validation_data_m2 = mixture_random_walk_ddm.generate(NUM_VALIDATION_SIMULATIONS)\n",
    "validation_data_m3 = levy_flight_ddm.generate(NUM_VALIDATION_SIMULATIONS)\n",
    "validation_data_m4 = regime_switching_ddm.generate(NUM_VALIDATION_SIMULATIONS)"
   ]
  },
  {
   "cell_type": "code",
   "execution_count": 15,
   "metadata": {},
   "outputs": [],
   "source": [
    "validation_data = {\n",
    "    'model_outputs': [\n",
    "        {'sim_data': validation_data_m1['sim_data'][:, :, None].astype(np.float32)},\n",
    "        {'sim_data': validation_data_m2['sim_data'][:, :, None].astype(np.float32)},\n",
    "        {'sim_data': validation_data_m3['sim_data'][:, :, None].astype(np.float32)},\n",
    "        {'sim_data': validation_data_m4['sim_data'][:, :, None].astype(np.float32)}\n",
    "        ],\n",
    "    'model_indices': np.arange(4)\n",
    "}"
   ]
  },
  {
   "cell_type": "code",
   "execution_count": 16,
   "metadata": {},
   "outputs": [],
   "source": [
    "with open('../data/validation_data.pkl', 'wb') as f:\n",
    "    pickle.dump(validation_data, f)"
   ]
  }
 ],
 "metadata": {
  "kernelspec": {
   "display_name": "Python 3 (ipykernel)",
   "language": "python",
   "name": "python3"
  },
  "language_info": {
   "codemirror_mode": {
    "name": "ipython",
    "version": 3
   },
   "file_extension": ".py",
   "mimetype": "text/x-python",
   "name": "python",
   "nbconvert_exporter": "python",
   "pygments_lexer": "ipython3",
   "version": "3.10.11"
  }
 },
 "nbformat": 4,
 "nbformat_minor": 2
}
