{
 "cells": [
  {
   "cell_type": "code",
   "execution_count": null,
   "metadata": {},
   "outputs": [],
   "source": [
    "# Get rid of annoying tf warning\n",
    "import os\n",
    "os.environ['TF_CPP_MIN_LOG_LEVEL'] = '3' \n",
    "\n",
    "import pickle\n",
    "import bayesflow as beef\n",
    "import tensorflow as tf\n",
    "from tensorflow.keras.backend import clear_session\n",
    "\n",
    "import sys\n",
    "sys.path.append(\"../\")\n",
    "from experiment import ModelComparisonExperiment"
   ]
  },
  {
   "cell_type": "code",
   "execution_count": null,
   "metadata": {},
   "outputs": [],
   "source": [
    "# gpu setting and checking\n",
    "physical_devices = tf.config.list_physical_devices('GPU')\n",
    "tf.config.experimental.set_memory_growth(physical_devices[0], enable=True)\n",
    "print(tf.config.list_physical_devices('GPU'))"
   ]
  },
  {
   "cell_type": "code",
   "execution_count": null,
   "metadata": {},
   "outputs": [],
   "source": [
    "ENSEMBLE_SIZE = 10"
   ]
  },
  {
   "cell_type": "code",
   "execution_count": null,
   "metadata": {},
   "outputs": [],
   "source": [
    "for i in range(ENSEMBLE_SIZE):\n",
    "    clear_session()\n",
    "    # initialize trainer\n",
    "    experiment = ModelComparisonExperiment(\n",
    "        checkpoint_path=f'../checkpoints/ensemble_{i}'\n",
    "        )\n",
    "    # read training and validation data\n",
    "    with open('../data/training_data.pkl', 'rb') as f:\n",
    "        training_data = pickle.load(f)\n",
    "    with open('../data/training_validation_data.pkl', 'rb') as f:\n",
    "        training_validation_data = pickle.load(f)\n",
    "    # start training\n",
    "    history = experiment.run(\n",
    "        training_data=training_data,\n",
    "        validation_data=training_validation_data\n",
    "    )"
   ]
  }
 ],
 "metadata": {
  "kernelspec": {
   "display_name": "Python 3 (ipykernel)",
   "language": "python",
   "name": "python3"
  },
  "language_info": {
   "codemirror_mode": {
    "name": "ipython",
    "version": 3
   },
   "file_extension": ".py",
   "mimetype": "text/x-python",
   "name": "python",
   "nbconvert_exporter": "python",
   "pygments_lexer": "ipython3",
   "version": "3.11.4"
  }
 },
 "nbformat": 4,
 "nbformat_minor": 4
}
